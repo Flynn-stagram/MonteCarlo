{
 "cells": [
  {
   "attachments": {},
   "cell_type": "markdown",
   "id": "45762487-d33f-486d-8e38-2cdea04e3528",
   "metadata": {},
   "source": [
    "# Metadata\n",
    "\n",
    "* Title: **Final Project Report**\n",
    "* Class: DS 5100\n",
    "* Date: 5/5/23\n",
    "* Student Name: Thomas Flynn\n",
    "* Student Net ID: ccm4dz\n",
    "* GitHub Repo URL: https://github.com/Flynn-stagram/MonteCarlo.git"
   ]
  },
  {
   "attachments": {},
   "cell_type": "markdown",
   "id": "d32cb273-9a40-4909-a7ce-51f6e4958d3c",
   "metadata": {},
   "source": [
    "# The Monte Carlo Module"
   ]
  },
  {
   "cell_type": "code",
   "execution_count": null,
   "id": "a0743efc-a785-4b5c-a9e6-b65d4507a67f",
   "metadata": {},
   "outputs": [],
   "source": [
    "class Die():\n",
    "    \"\"\"A die has N sides, or “faces”, and W weights, and can be rolled to select\n",
    "    a face. W defaults to 1.0 for each face but can be changed after the object is created.\n",
    "    Note that the weights are just numbers, not a normalized probability distribution.\n",
    "    The die has one behavior, which is to be rolled one or more times.\n",
    "    Note that what we are calling a “die” here can be any discrete random variable associated with a stochastic process, such as using a deck of cards or flipping a coin or speaking a language. Our probability model for such variable is, however, very simple. since our weights apply to only to single events, we are assuming that the events are independent. This makes sense for coin tosses but not for language use\"\"\"\n",
    "    def __init__(self, faces):\n",
    "        \"\"\"Takes an array of faces as an argument. The array's data type (type) may be strings or numbers.\n",
    "        Internally initializes the weights to 1.0 for each face.\n",
    "        Saves both faces and weights into a private dataframe that is to be shared by the other methods.\"\"\"\n",
    "        self.faces = faces\n",
    "        self.__thedie = pd.DataFrame({'face': faces, 'weight': [1.0]*len(faces)})\n",
    "    \n",
    "    def change_weight(self, face, new_weight):\n",
    "        \"\"\"A method to change the weight of a single side.\n",
    "        • Takes two arguments: the face value to be changed\n",
    "        and the new weight.\n",
    "        • Checks to see if the face passed is valid; is it in the\n",
    "        array of weights?\n",
    "        • Checks to see if the weight is valid; is it a float? Can it\n",
    "        be converted to one?\"\"\"\n",
    "        if face in self.__thedie['face'].values:\n",
    "            try:\n",
    "                new_weight_float = float(new_weight)\n",
    "                self.__thedie.loc[self.__thedie['face'] == face, 'weight'] = new_weight_float\n",
    "                print(f\"The weight of face {face} has been changed to {new_weight_float}\")\n",
    "            except ValueError:\n",
    "                print(\"Error: The new weight isn't a float\")\n",
    "        else:\n",
    "            print(\"Error: The face value you passed couldn't be found\")\n",
    "        \n",
    "    def roll_die(self, times=1):\n",
    "        \"\"\"A method to roll the die one or more times.\n",
    "        • Takes a parameter of how many times the die is to be\n",
    "        rolled; defaults to 1.\n",
    "        • This is essentially a random sample from the vector of\n",
    "        faces according to the weights.\n",
    "        •  Returns a list of outcomes.\n",
    "        •  Does not store internally these results.\"\"\"\n",
    "        outcomes = []\n",
    "        for i in range(times):\n",
    "            outcome = random.choices(self.__thedie['face'], weights=self.__thedie['weight'], k=1)[0] # type: ignore\n",
    "            outcomes.append(outcome)\n",
    "        return outcomes\n",
    "            \n",
    "    def __str__(self):\n",
    "        \"\"\"A method to show the user the die's current set of faces and\n",
    "        weights (since the latter can be changed).\n",
    "        • Returns the dataframe created in the initializer.\"\"\"\n",
    "        return str(self.__thedie)\n",
    "\n",
    "\n",
    "\n",
    "class Game():\n",
    "    \"\"\"A game consists of rolling of one or more dice of the same kind one or\n",
    "    more times.\n",
    "    • Each game is initialized with one or more of similarly defined\n",
    "    dice (Die objects).\n",
    "    • By \"same kind\" and \"similarly defined\" we mean that each die\n",
    "    in a given game has the same number of sides and associated\n",
    "    faces, but each die object may have its own weights.\n",
    "    • The class has a behavior to play a game, i.e. to rolls all of the\n",
    "    dice a given number of times.\n",
    "    • The class keeps the results of its most recent play.\"\"\"\n",
    "    def __init__(self, dice):\n",
    "        \"\"\"An initializer takes a single parameter, a list of already instantiated similar Die objects.\"\"\"\n",
    "        self.dice = dice\n",
    "        self.__theresults = pd.DataFrame()\n",
    "        \n",
    "    def play(self, howmanyrolls):\n",
    "        \"\"\"A play method\n",
    "        • Takes a parameter to specify how many times the\n",
    "        dice should be rolled.\n",
    "        • Saves the result of the play to a private dataframe of\n",
    "        shape N rolls by M dice.\n",
    "        • The private dataframe should have the roll number is\n",
    "        a named index.\n",
    "        •  This results in a table of data with columns for roll\n",
    "        number, the die number (its list index), and the face\n",
    "        rolled in that instance.\"\"\"\n",
    "        results = []\n",
    "        for i in range(howmanyrolls):\n",
    "            roll = [die.roll_die() for die in self.dice]\n",
    "            results.append(roll)\n",
    "        self.__theresults = pd.DataFrame(results, index=range(howmanyrolls), columns=[\"Die \" + str(i+1) for i in range(len(self.dice))])\n",
    "        self.__theresults.index.name = \"Roll Number\"\n",
    "        \n",
    "    def show_results(self, form='wide'):\n",
    "        \"\"\"A method to show the user the results of the most recent play.\n",
    "        • This method just passes the private dataframe to the user.\n",
    "        • Takes a parameter to return the dataframe in narrow or wide form.\n",
    "        • This parameter defaults to wide form.\n",
    "        • This parameter should raise an exception if the user passes an invalid option.\n",
    "        • The narrow form of the dataframe will have a two-column index with the roll number and the die number, and a column for the face rolled.\n",
    "        • The wide form of the dataframe will a single column index with the roll number, and each die number as a column.\"\"\"\n",
    "        if form == 'wide':\n",
    "            return self.__theresults\n",
    "        elif form == 'narrow':\n",
    "            return pd.melt(self.__theresults.reset_index(), id_vars=\"Roll Number\", var_name=\"Die\", value_name=\"Face\")\n",
    "        else:\n",
    "            raise ValueError(\"You need to specify either wide or narrow\")\n",
    "\n",
    "\n",
    "\n",
    "class Analyzer():\n",
    "    \"\"\"An analyzer takes the results of a single game and computes various descriptive statistical properties about it. These properties results are available as attributes of an Analyzer object. Attributes (and associated methods) include:\"\"\"\n",
    "    def __init__(self, game):\n",
    "        \"\"\"An initializer\n",
    "        •  Takes a game object as its input parameter.\n",
    "        • At initialization time, it also infers the data type of the die faces used.\"\"\"\n",
    "        self.game = game\n",
    "        \n",
    "        # Infer data type of die faces\n",
    "        sample_roll = game.show_results().iloc[0]\n",
    "        self.dtype = type(sample_roll[0])\n",
    "        \n",
    "        self.jackpot_results = pd.DataFrame()\n",
    "        self.combo_results = pd.DataFrame()\n",
    "        self.facecount_results = pd.DataFrame()\n",
    "        \n",
    "    def jackpot(self):\n",
    "        \"\"\"A jackpot method to compute how many times the game resulted in all faces being identical.\n",
    "        • Returns an integer for the number times to the user.\n",
    "        •  Stores the results as a dataframe of jackpot results in a public attribute.\n",
    "        • The dataframe should have the roll number as a named index.\"\"\"\n",
    "        jackpot_count = len(self.jackpot_results)\n",
    "        if jackpot_count == 0:\n",
    "            # Compute jackpot results\n",
    "            identical_rolls = self.game.show_results().eq(self.game.show_results().iloc[:, 0], axis=0).all(axis=1)\n",
    "            self.jackpot_results = pd.DataFrame({'jackpot': identical_rolls})\n",
    "            self.jackpot_results.index.name = 'Roll Number'\n",
    "            jackpot_count = identical_rolls.sum()\n",
    "        return jackpot_count\n",
    "        \n",
    "    def combo(self):\n",
    "        \"\"\"A combo method to compute the distinct combinations of faces rolled, along with their counts.\n",
    "        • Combinations should be sorted and saved as a multi-columned index.\n",
    "        •  Stores the results as a dataframe in a public attribute.\"\"\"\n",
    "        if self.combo_results.empty:\n",
    "            # Compute combo results\n",
    "            combos = self.game.show_results().apply(lambda row: tuple(sorted(row)), axis=1).value_counts().reset_index()\n",
    "            combos.columns = ['combo', 'count']\n",
    "            self.combo_results = combos.set_index('combo').sort_index()\n",
    "        return self.combo_results\n",
    "    \n",
    "    def face_count(self):\n",
    "        \"\"\"A face counts per roll method to compute how many times a given face is rolled in each event.\n",
    "        •  Stores the results as a dataframe in a public attribute.\n",
    "        • The dataframe has an index of the roll number and face values as columns (i.e. it is in wide format).\"\"\"\n",
    "        face_counts = self.__theresults.melt(var_name='Die', value_name='Face').groupby(['Roll Number', 'Face']).size().unstack(fill_value=0) # type: ignore\n",
    "        return face_counts"
   ]
  },
  {
   "attachments": {},
   "cell_type": "markdown",
   "id": "4c81c4f0-b6ff-46ab-ba2c-9de7f0179715",
   "metadata": {},
   "source": [
    "# Test Module"
   ]
  },
  {
   "cell_type": "code",
   "execution_count": null,
   "id": "14b878d8-258b-4cf2-ad88-b8ee90d43977",
   "metadata": {},
   "outputs": [],
   "source": [
    "import unittest\n",
    "from unittest.mock import patch, MagicMock\n",
    "from io import StringIO\n",
    "import pandas as pd\n",
    "import numpy as np\n",
    "\n",
    "from montecarlo import Die\n",
    "\n",
    "class TestDie(unittest.TestCase):\n",
    "    \n",
    "    def test_init(self):\n",
    "        faces = [1, 2, 3, 4]\n",
    "        die = Die(faces)\n",
    "        self.assertTrue(isinstance(die, Die))\n",
    "        self.assertTrue(isinstance(die._Die__thedie, pd.DataFrame))\n",
    "        self.assertListEqual(die._Die__thedie['face'].tolist(), faces)\n",
    "        self.assertListEqual(die._Die__thedie['weight'].tolist(), [1.0]*len(faces))\n",
    "        \n",
    "    def test_change_weight(self):\n",
    "        faces = [1, 2, 3, 4]\n",
    "        die = Die(faces)\n",
    "        \n",
    "        # Test changing weight of existing face\n",
    "        die.change_weight(1, 2.0)\n",
    "        self.assertAlmostEqual(die._Die__thedie.loc[die._Die__thedie['face'] == 1, 'weight'].values[0], 2.0)\n",
    "        \n",
    "        # Test changing weight of non-existing face\n",
    "        with patch('sys.stdout', new=StringIO()) as fake_output:\n",
    "            die.change_weight(5, 2.0)\n",
    "            self.assertEqual(fake_output.getvalue().strip(), \"Error: The face value you passed couldn't be found\")\n",
    "        \n",
    "        # Test changing weight to non-float value\n",
    "        with patch('sys.stdout', new=StringIO()) as fake_output:\n",
    "            die.change_weight(1, 'string')\n",
    "            self.assertEqual(fake_output.getvalue().strip(), \"Error: The new weight isn't a float\")\n",
    "            \n",
    "    def test_roll_die(self):\n",
    "        faces = [1, 2, 3, 4]\n",
    "        die = Die(faces)\n",
    "        \n",
    "        # Test rolling die\n",
    "        outcomes = die.roll_die()\n",
    "        self.assertTrue(isinstance(outcomes, list))\n",
    "        self.assertIn(outcomes[0], faces)\n",
    "        self.assertEqual(len(outcomes), 1)\n",
    "        \n",
    "        # Test rolling die multiple times\n",
    "        outcomes = die.roll_die(times=10)\n",
    "        self.assertEqual(len(outcomes), 10)\n",
    "        self.assertTrue(all(outcome in faces for outcome in outcomes))\n",
    "        \n",
    "    def test_str(self):\n",
    "        faces = [1, 2, 3, 4]\n",
    "        die = Die(faces)\n",
    "        die_str = str(die)\n",
    "        self.assertIsInstance(die_str, str)\n",
    "        self.assertEqual(die_str, str(die._Die__thedie))\n",
    "        \n",
    "        \n",
    "if __name__ == '__main__':\n",
    "    unittest.main(verbosity=2)\n",
    "    \n",
    "    \n",
    "import unittest\n",
    "import pandas as pd\n",
    "from montecarlo import Die, Game\n",
    "\n",
    "class TestGame(unittest.TestCase):\n",
    "    \n",
    "    def setUp(self):\n",
    "        self.dice = [Die([1, 2, 3, 4, 5, 6])]\n",
    "        self.game = Game(self.dice)\n",
    "        \n",
    "    def test_play(self):\n",
    "        self.game.play(10)\n",
    "        results = self.game.show_results()\n",
    "        self.assertIsInstance(results, pd.DataFrame)\n",
    "        self.assertEqual(len(results), 10)\n",
    "        self.assertEqual(len(results.columns), 1)\n",
    "        self.assertEqual(results.index.name, \"Roll Number\")\n",
    "        self.assertEqual(results.columns[0], \"Die 1\")\n",
    "        \n",
    "    def test_show_results_wide(self):\n",
    "        self.game.play(5)\n",
    "        results = self.game.show_results(form='wide')\n",
    "        self.assertIsInstance(results, pd.DataFrame)\n",
    "        self.assertEqual(len(results), 5)\n",
    "        self.assertEqual(len(results.columns), 1)\n",
    "        self.assertEqual(results.index.name, \"Roll Number\")\n",
    "        self.assertEqual(results.columns[0], \"Die 1\")\n",
    "        \n",
    "    def test_show_results_narrow(self):\n",
    "        self.game.play(5)\n",
    "        results = self.game.show_results(form='narrow')\n",
    "        self.assertIsInstance(results, pd.DataFrame)\n",
    "        self.assertEqual(len(results), 5)\n",
    "        self.assertEqual(len(results.columns), 3)\n",
    "        self.assertEqual(results.columns[0], \"Roll Number\")\n",
    "        self.assertEqual(results.columns[1], \"Die\")\n",
    "        self.assertEqual(results.columns[2], \"Face\")\n",
    "        \n",
    "if __name__ == '__main__':\n",
    "    unittest.main()\n",
    "\n",
    "import unittest\n",
    "import pandas as pd\n",
    "from montecarlo import Die, Game, Analyzer\n",
    "\n",
    "class TestAnalyzer(unittest.TestCase):\n",
    "    def setUp(self):\n",
    "        dice = [Die([1,2,3,4,5,6]), Die([1,2,3,4,5,6])]\n",
    "        self.game = Game(dice)\n",
    "        self.analyzer = Analyzer(self.game)\n",
    "\n",
    "    def test_jackpot(self):\n",
    "        self.assertEqual(self.analyzer.jackpot(), 0)\n",
    "        self.game.play()\n",
    "        self.assertEqual(self.analyzer.jackpot(), 1)\n",
    "\n",
    "    def test_combo(self):\n",
    "        self.assertTrue(self.analyzer.combo().empty)\n",
    "        self.game.play()\n",
    "        self.assertFalse(self.analyzer.combo().empty)\n",
    "\n",
    "    def test_face_count(self):\n",
    "        face_counts = self.analyzer.face_count()\n",
    "        self.assertIsInstance(face_counts, pd.DataFrame)\n",
    "        self.assertEqual(face_counts.index.name, 'Roll Number')\n",
    "        self.assertListEqual(face_counts.columns.tolist(), [1, 2, 3, 4, 5, 6])\n",
    "        self.assertTrue((face_counts.sum(axis=1) == 2).all())\n",
    "if __name__ == '__main__':\n",
    "    unittest.main()"
   ]
  },
  {
   "attachments": {},
   "cell_type": "markdown",
   "id": "3c2b90b6-ac8b-43fa-a069-cb5b0b22aee0",
   "metadata": {},
   "source": [
    "# Test Results"
   ]
  },
  {
   "attachments": {},
   "cell_type": "markdown",
   "id": "c80201af-9579-4a2c-bbc7-805e420d156c",
   "metadata": {},
   "source": [
    "die_tests\n",
    "\n",
    "test_change_weight (__main__.TestDie) ... ok\n",
    "test_init (__main__.TestDie) ... ok\n",
    "test_roll_die (__main__.TestDie) ... ok\n",
    "test_str (__main__.TestDie) ... ok\n",
    "\n",
    "----------------------------------------------------------------------\n",
    "Ran 4 tests in 0.008s\n",
    "\n",
    "OK\n"
   ]
  },
  {
   "attachments": {},
   "cell_type": "markdown",
   "id": "7c44695d-d1b3-4edf-9f94-e64d7446f199",
   "metadata": {},
   "source": [
    "# Scenarios\n",
    "\n",
    "Code blocks with your scenarios and their outputs. \n",
    "\n",
    "These should have appropriate import statements even though the code is now in the same notebook as the classes it calls. "
   ]
  },
  {
   "attachments": {},
   "cell_type": "markdown",
   "id": "90b7abd8-f4a7-4d71-bc9a-746640516b98",
   "metadata": {},
   "source": [
    "## Scenario 1"
   ]
  },
  {
   "cell_type": "code",
   "execution_count": 2,
   "id": "815eae36-4357-442a-894e-d056ebb8f998",
   "metadata": {},
   "outputs": [],
   "source": [
    "import pandas as pd\n",
    "import numpy as np\n",
    "\n",
    "from montecarlo import Die"
   ]
  },
  {
   "cell_type": "code",
   "execution_count": 3,
   "id": "fee54455",
   "metadata": {},
   "outputs": [],
   "source": [
    "faces = ['H', 'T']"
   ]
  },
  {
   "cell_type": "code",
   "execution_count": 4,
   "id": "995b6439",
   "metadata": {},
   "outputs": [],
   "source": [
    "fair_coin = Die(faces)"
   ]
  },
  {
   "cell_type": "code",
   "execution_count": 5,
   "id": "1b9788f6",
   "metadata": {},
   "outputs": [
    {
     "name": "stdout",
     "output_type": "stream",
     "text": [
      "The weight of face H has been changed to 5.0\n"
     ]
    }
   ],
   "source": [
    "unfair_coin = Die(faces)\n",
    "unfair_coin.change_weight('H', 5)"
   ]
  },
  {
   "cell_type": "code",
   "execution_count": 8,
   "id": "76bb7f76",
   "metadata": {},
   "outputs": [],
   "source": [
    "from montecarlo import Game"
   ]
  },
  {
   "cell_type": "code",
   "execution_count": 9,
   "id": "cbf629c3",
   "metadata": {},
   "outputs": [
    {
     "data": {
      "text/html": [
       "<div>\n",
       "<style scoped>\n",
       "    .dataframe tbody tr th:only-of-type {\n",
       "        vertical-align: middle;\n",
       "    }\n",
       "\n",
       "    .dataframe tbody tr th {\n",
       "        vertical-align: top;\n",
       "    }\n",
       "\n",
       "    .dataframe thead th {\n",
       "        text-align: right;\n",
       "    }\n",
       "</style>\n",
       "<table border=\"1\" class=\"dataframe\">\n",
       "  <thead>\n",
       "    <tr style=\"text-align: right;\">\n",
       "      <th></th>\n",
       "      <th>Die 1</th>\n",
       "      <th>Die 2</th>\n",
       "      <th>Die 3</th>\n",
       "    </tr>\n",
       "    <tr>\n",
       "      <th>Roll Number</th>\n",
       "      <th></th>\n",
       "      <th></th>\n",
       "      <th></th>\n",
       "    </tr>\n",
       "  </thead>\n",
       "  <tbody>\n",
       "    <tr>\n",
       "      <th>0</th>\n",
       "      <td>[H]</td>\n",
       "      <td>[T]</td>\n",
       "      <td>[T]</td>\n",
       "    </tr>\n",
       "    <tr>\n",
       "      <th>1</th>\n",
       "      <td>[H]</td>\n",
       "      <td>[H]</td>\n",
       "      <td>[H]</td>\n",
       "    </tr>\n",
       "    <tr>\n",
       "      <th>2</th>\n",
       "      <td>[H]</td>\n",
       "      <td>[H]</td>\n",
       "      <td>[H]</td>\n",
       "    </tr>\n",
       "    <tr>\n",
       "      <th>3</th>\n",
       "      <td>[T]</td>\n",
       "      <td>[H]</td>\n",
       "      <td>[T]</td>\n",
       "    </tr>\n",
       "    <tr>\n",
       "      <th>4</th>\n",
       "      <td>[T]</td>\n",
       "      <td>[T]</td>\n",
       "      <td>[T]</td>\n",
       "    </tr>\n",
       "    <tr>\n",
       "      <th>...</th>\n",
       "      <td>...</td>\n",
       "      <td>...</td>\n",
       "      <td>...</td>\n",
       "    </tr>\n",
       "    <tr>\n",
       "      <th>995</th>\n",
       "      <td>[T]</td>\n",
       "      <td>[H]</td>\n",
       "      <td>[H]</td>\n",
       "    </tr>\n",
       "    <tr>\n",
       "      <th>996</th>\n",
       "      <td>[H]</td>\n",
       "      <td>[H]</td>\n",
       "      <td>[T]</td>\n",
       "    </tr>\n",
       "    <tr>\n",
       "      <th>997</th>\n",
       "      <td>[H]</td>\n",
       "      <td>[T]</td>\n",
       "      <td>[H]</td>\n",
       "    </tr>\n",
       "    <tr>\n",
       "      <th>998</th>\n",
       "      <td>[H]</td>\n",
       "      <td>[H]</td>\n",
       "      <td>[T]</td>\n",
       "    </tr>\n",
       "    <tr>\n",
       "      <th>999</th>\n",
       "      <td>[T]</td>\n",
       "      <td>[H]</td>\n",
       "      <td>[H]</td>\n",
       "    </tr>\n",
       "  </tbody>\n",
       "</table>\n",
       "<p>1000 rows × 3 columns</p>\n",
       "</div>"
      ],
      "text/plain": [
       "            Die 1 Die 2 Die 3\n",
       "Roll Number                  \n",
       "0             [H]   [T]   [T]\n",
       "1             [H]   [H]   [H]\n",
       "2             [H]   [H]   [H]\n",
       "3             [T]   [H]   [T]\n",
       "4             [T]   [T]   [T]\n",
       "...           ...   ...   ...\n",
       "995           [T]   [H]   [H]\n",
       "996           [H]   [H]   [T]\n",
       "997           [H]   [T]   [H]\n",
       "998           [H]   [H]   [T]\n",
       "999           [T]   [H]   [H]\n",
       "\n",
       "[1000 rows x 3 columns]"
      ]
     },
     "execution_count": 9,
     "metadata": {},
     "output_type": "execute_result"
    }
   ],
   "source": [
    "coin_one = fair_coin\n",
    "coin_two = fair_coin\n",
    "coin_three = fair_coin\n",
    "dice = [coin_one, coin_two, coin_three]\n",
    "just_fairgame = Game(dice)\n",
    "just_fairgame.play(1000)\n",
    "just_fairgame.show_results()"
   ]
  },
  {
   "cell_type": "code",
   "execution_count": 10,
   "id": "ff943d7a",
   "metadata": {},
   "outputs": [
    {
     "data": {
      "text/html": [
       "<div>\n",
       "<style scoped>\n",
       "    .dataframe tbody tr th:only-of-type {\n",
       "        vertical-align: middle;\n",
       "    }\n",
       "\n",
       "    .dataframe tbody tr th {\n",
       "        vertical-align: top;\n",
       "    }\n",
       "\n",
       "    .dataframe thead th {\n",
       "        text-align: right;\n",
       "    }\n",
       "</style>\n",
       "<table border=\"1\" class=\"dataframe\">\n",
       "  <thead>\n",
       "    <tr style=\"text-align: right;\">\n",
       "      <th></th>\n",
       "      <th>Die 1</th>\n",
       "      <th>Die 2</th>\n",
       "      <th>Die 3</th>\n",
       "    </tr>\n",
       "    <tr>\n",
       "      <th>Roll Number</th>\n",
       "      <th></th>\n",
       "      <th></th>\n",
       "      <th></th>\n",
       "    </tr>\n",
       "  </thead>\n",
       "  <tbody>\n",
       "    <tr>\n",
       "      <th>0</th>\n",
       "      <td>[H]</td>\n",
       "      <td>[H]</td>\n",
       "      <td>[H]</td>\n",
       "    </tr>\n",
       "    <tr>\n",
       "      <th>1</th>\n",
       "      <td>[T]</td>\n",
       "      <td>[H]</td>\n",
       "      <td>[H]</td>\n",
       "    </tr>\n",
       "    <tr>\n",
       "      <th>2</th>\n",
       "      <td>[H]</td>\n",
       "      <td>[H]</td>\n",
       "      <td>[T]</td>\n",
       "    </tr>\n",
       "    <tr>\n",
       "      <th>3</th>\n",
       "      <td>[T]</td>\n",
       "      <td>[H]</td>\n",
       "      <td>[H]</td>\n",
       "    </tr>\n",
       "    <tr>\n",
       "      <th>4</th>\n",
       "      <td>[H]</td>\n",
       "      <td>[H]</td>\n",
       "      <td>[H]</td>\n",
       "    </tr>\n",
       "    <tr>\n",
       "      <th>...</th>\n",
       "      <td>...</td>\n",
       "      <td>...</td>\n",
       "      <td>...</td>\n",
       "    </tr>\n",
       "    <tr>\n",
       "      <th>995</th>\n",
       "      <td>[T]</td>\n",
       "      <td>[H]</td>\n",
       "      <td>[H]</td>\n",
       "    </tr>\n",
       "    <tr>\n",
       "      <th>996</th>\n",
       "      <td>[T]</td>\n",
       "      <td>[H]</td>\n",
       "      <td>[H]</td>\n",
       "    </tr>\n",
       "    <tr>\n",
       "      <th>997</th>\n",
       "      <td>[H]</td>\n",
       "      <td>[H]</td>\n",
       "      <td>[H]</td>\n",
       "    </tr>\n",
       "    <tr>\n",
       "      <th>998</th>\n",
       "      <td>[H]</td>\n",
       "      <td>[H]</td>\n",
       "      <td>[H]</td>\n",
       "    </tr>\n",
       "    <tr>\n",
       "      <th>999</th>\n",
       "      <td>[H]</td>\n",
       "      <td>[H]</td>\n",
       "      <td>[H]</td>\n",
       "    </tr>\n",
       "  </tbody>\n",
       "</table>\n",
       "<p>1000 rows × 3 columns</p>\n",
       "</div>"
      ],
      "text/plain": [
       "            Die 1 Die 2 Die 3\n",
       "Roll Number                  \n",
       "0             [H]   [H]   [H]\n",
       "1             [T]   [H]   [H]\n",
       "2             [H]   [H]   [T]\n",
       "3             [T]   [H]   [H]\n",
       "4             [H]   [H]   [H]\n",
       "...           ...   ...   ...\n",
       "995           [T]   [H]   [H]\n",
       "996           [T]   [H]   [H]\n",
       "997           [H]   [H]   [H]\n",
       "998           [H]   [H]   [H]\n",
       "999           [H]   [H]   [H]\n",
       "\n",
       "[1000 rows x 3 columns]"
      ]
     },
     "execution_count": 10,
     "metadata": {},
     "output_type": "execute_result"
    }
   ],
   "source": [
    "coin_one = fair_coin\n",
    "coin_two = unfair_coin\n",
    "coin_three = unfair_coin\n",
    "dicesettwo = [coin_one, coin_two, coin_three]\n",
    "twoversusone = Game(dicesettwo)\n",
    "twoversusone.play(1000)\n",
    "twoversusone.show_results()"
   ]
  },
  {
   "cell_type": "code",
   "execution_count": 11,
   "id": "dcbdc490",
   "metadata": {},
   "outputs": [],
   "source": [
    "from montecarlo import Analyzer"
   ]
  },
  {
   "cell_type": "code",
   "execution_count": 12,
   "id": "8bee63f2",
   "metadata": {},
   "outputs": [],
   "source": [
    "analyze_this = Analyzer(just_fairgame)"
   ]
  },
  {
   "cell_type": "code",
   "execution_count": 13,
   "id": "e36462eb",
   "metadata": {},
   "outputs": [],
   "source": [
    "thiswins = analyze_this.jackpot()"
   ]
  },
  {
   "cell_type": "code",
   "execution_count": 14,
   "id": "87ab7f86",
   "metadata": {},
   "outputs": [
    {
     "name": "stdout",
     "output_type": "stream",
     "text": [
      "243\n"
     ]
    }
   ],
   "source": [
    "print (thiswins)"
   ]
  },
  {
   "cell_type": "code",
   "execution_count": 16,
   "id": "d85c316d",
   "metadata": {},
   "outputs": [
    {
     "name": "stdout",
     "output_type": "stream",
     "text": [
      "1000\n"
     ]
    }
   ],
   "source": [
    "rolls_this = len(analyze_this.game.show_results())\n",
    "print(rolls_this)"
   ]
  },
  {
   "cell_type": "code",
   "execution_count": 17,
   "id": "eca2adbb",
   "metadata": {},
   "outputs": [
    {
     "name": "stdout",
     "output_type": "stream",
     "text": [
      "0.243\n"
     ]
    }
   ],
   "source": [
    "jackpots_freq_this = thiswins / rolls_this\n",
    "print (jackpots_freq_this)"
   ]
  },
  {
   "cell_type": "code",
   "execution_count": 18,
   "id": "d64e4d2c",
   "metadata": {},
   "outputs": [
    {
     "data": {
      "text/html": [
       "<div>\n",
       "<style scoped>\n",
       "    .dataframe tbody tr th:only-of-type {\n",
       "        vertical-align: middle;\n",
       "    }\n",
       "\n",
       "    .dataframe tbody tr th {\n",
       "        vertical-align: top;\n",
       "    }\n",
       "\n",
       "    .dataframe thead th {\n",
       "        text-align: right;\n",
       "    }\n",
       "</style>\n",
       "<table border=\"1\" class=\"dataframe\">\n",
       "  <thead>\n",
       "    <tr style=\"text-align: right;\">\n",
       "      <th></th>\n",
       "      <th>count</th>\n",
       "    </tr>\n",
       "    <tr>\n",
       "      <th>combo</th>\n",
       "      <th></th>\n",
       "    </tr>\n",
       "  </thead>\n",
       "  <tbody>\n",
       "    <tr>\n",
       "      <th>([H], [H], [H])</th>\n",
       "      <td>113</td>\n",
       "    </tr>\n",
       "    <tr>\n",
       "      <th>([H], [H], [T])</th>\n",
       "      <td>390</td>\n",
       "    </tr>\n",
       "    <tr>\n",
       "      <th>([H], [T], [T])</th>\n",
       "      <td>367</td>\n",
       "    </tr>\n",
       "    <tr>\n",
       "      <th>([T], [T], [T])</th>\n",
       "      <td>130</td>\n",
       "    </tr>\n",
       "  </tbody>\n",
       "</table>\n",
       "</div>"
      ],
      "text/plain": [
       "                 count\n",
       "combo                 \n",
       "([H], [H], [H])    113\n",
       "([H], [H], [T])    390\n",
       "([H], [T], [T])    367\n",
       "([T], [T], [T])    130"
      ]
     },
     "execution_count": 18,
     "metadata": {},
     "output_type": "execute_result"
    }
   ],
   "source": [
    "analyze_this.combo()"
   ]
  },
  {
   "cell_type": "code",
   "execution_count": 19,
   "id": "43e9456b",
   "metadata": {},
   "outputs": [],
   "source": [
    "analyze_that = Analyzer(twoversusone)"
   ]
  },
  {
   "cell_type": "code",
   "execution_count": 20,
   "id": "39e8a877",
   "metadata": {},
   "outputs": [],
   "source": [
    "thatwins = analyze_that.jackpot()"
   ]
  },
  {
   "cell_type": "code",
   "execution_count": 21,
   "id": "4d75902a",
   "metadata": {},
   "outputs": [
    {
     "name": "stdout",
     "output_type": "stream",
     "text": [
      "376\n"
     ]
    }
   ],
   "source": [
    "print(thatwins)"
   ]
  },
  {
   "cell_type": "code",
   "execution_count": 22,
   "id": "94508e56",
   "metadata": {},
   "outputs": [
    {
     "name": "stdout",
     "output_type": "stream",
     "text": [
      "1000\n"
     ]
    }
   ],
   "source": [
    "rolls_that = len(analyze_that.game.show_results())\n",
    "print(rolls_that)"
   ]
  },
  {
   "cell_type": "code",
   "execution_count": 23,
   "id": "ee4ba210",
   "metadata": {},
   "outputs": [
    {
     "name": "stdout",
     "output_type": "stream",
     "text": [
      "0.376\n"
     ]
    }
   ],
   "source": [
    "jackpots_freq_that = thatwins / rolls_that\n",
    "print (jackpots_freq_that)"
   ]
  },
  {
   "cell_type": "code",
   "execution_count": 24,
   "id": "12922e0c",
   "metadata": {},
   "outputs": [
    {
     "data": {
      "text/html": [
       "<div>\n",
       "<style scoped>\n",
       "    .dataframe tbody tr th:only-of-type {\n",
       "        vertical-align: middle;\n",
       "    }\n",
       "\n",
       "    .dataframe tbody tr th {\n",
       "        vertical-align: top;\n",
       "    }\n",
       "\n",
       "    .dataframe thead th {\n",
       "        text-align: right;\n",
       "    }\n",
       "</style>\n",
       "<table border=\"1\" class=\"dataframe\">\n",
       "  <thead>\n",
       "    <tr style=\"text-align: right;\">\n",
       "      <th></th>\n",
       "      <th>count</th>\n",
       "    </tr>\n",
       "    <tr>\n",
       "      <th>combo</th>\n",
       "      <th></th>\n",
       "    </tr>\n",
       "  </thead>\n",
       "  <tbody>\n",
       "    <tr>\n",
       "      <th>([H], [H], [H])</th>\n",
       "      <td>365</td>\n",
       "    </tr>\n",
       "    <tr>\n",
       "      <th>([H], [H], [T])</th>\n",
       "      <td>483</td>\n",
       "    </tr>\n",
       "    <tr>\n",
       "      <th>([H], [T], [T])</th>\n",
       "      <td>141</td>\n",
       "    </tr>\n",
       "    <tr>\n",
       "      <th>([T], [T], [T])</th>\n",
       "      <td>11</td>\n",
       "    </tr>\n",
       "  </tbody>\n",
       "</table>\n",
       "</div>"
      ],
      "text/plain": [
       "                 count\n",
       "combo                 \n",
       "([H], [H], [H])    365\n",
       "([H], [H], [T])    483\n",
       "([H], [T], [T])    141\n",
       "([T], [T], [T])     11"
      ]
     },
     "execution_count": 24,
     "metadata": {},
     "output_type": "execute_result"
    }
   ],
   "source": [
    "analyze_that.combo()"
   ]
  },
  {
   "cell_type": "code",
   "execution_count": 25,
   "id": "198e37bd",
   "metadata": {},
   "outputs": [],
   "source": [
    "import plotly.graph_objs as go"
   ]
  },
  {
   "cell_type": "code",
   "execution_count": 26,
   "id": "da556c40",
   "metadata": {},
   "outputs": [
    {
     "data": {
      "application/vnd.plotly.v1+json": {
       "config": {
        "plotlyServerURL": "https://plot.ly"
       },
       "data": [
        {
         "type": "bar",
         "x": [
          "Three Fair Dice",
          "One Fair Two Loaded"
         ],
         "y": [
          0.243,
          0.376
         ]
        }
       ],
       "layout": {
        "template": {
         "data": {
          "bar": [
           {
            "error_x": {
             "color": "#2a3f5f"
            },
            "error_y": {
             "color": "#2a3f5f"
            },
            "marker": {
             "line": {
              "color": "#E5ECF6",
              "width": 0.5
             },
             "pattern": {
              "fillmode": "overlay",
              "size": 10,
              "solidity": 0.2
             }
            },
            "type": "bar"
           }
          ],
          "barpolar": [
           {
            "marker": {
             "line": {
              "color": "#E5ECF6",
              "width": 0.5
             },
             "pattern": {
              "fillmode": "overlay",
              "size": 10,
              "solidity": 0.2
             }
            },
            "type": "barpolar"
           }
          ],
          "carpet": [
           {
            "aaxis": {
             "endlinecolor": "#2a3f5f",
             "gridcolor": "white",
             "linecolor": "white",
             "minorgridcolor": "white",
             "startlinecolor": "#2a3f5f"
            },
            "baxis": {
             "endlinecolor": "#2a3f5f",
             "gridcolor": "white",
             "linecolor": "white",
             "minorgridcolor": "white",
             "startlinecolor": "#2a3f5f"
            },
            "type": "carpet"
           }
          ],
          "choropleth": [
           {
            "colorbar": {
             "outlinewidth": 0,
             "ticks": ""
            },
            "type": "choropleth"
           }
          ],
          "contour": [
           {
            "colorbar": {
             "outlinewidth": 0,
             "ticks": ""
            },
            "colorscale": [
             [
              0,
              "#0d0887"
             ],
             [
              0.1111111111111111,
              "#46039f"
             ],
             [
              0.2222222222222222,
              "#7201a8"
             ],
             [
              0.3333333333333333,
              "#9c179e"
             ],
             [
              0.4444444444444444,
              "#bd3786"
             ],
             [
              0.5555555555555556,
              "#d8576b"
             ],
             [
              0.6666666666666666,
              "#ed7953"
             ],
             [
              0.7777777777777778,
              "#fb9f3a"
             ],
             [
              0.8888888888888888,
              "#fdca26"
             ],
             [
              1,
              "#f0f921"
             ]
            ],
            "type": "contour"
           }
          ],
          "contourcarpet": [
           {
            "colorbar": {
             "outlinewidth": 0,
             "ticks": ""
            },
            "type": "contourcarpet"
           }
          ],
          "heatmap": [
           {
            "colorbar": {
             "outlinewidth": 0,
             "ticks": ""
            },
            "colorscale": [
             [
              0,
              "#0d0887"
             ],
             [
              0.1111111111111111,
              "#46039f"
             ],
             [
              0.2222222222222222,
              "#7201a8"
             ],
             [
              0.3333333333333333,
              "#9c179e"
             ],
             [
              0.4444444444444444,
              "#bd3786"
             ],
             [
              0.5555555555555556,
              "#d8576b"
             ],
             [
              0.6666666666666666,
              "#ed7953"
             ],
             [
              0.7777777777777778,
              "#fb9f3a"
             ],
             [
              0.8888888888888888,
              "#fdca26"
             ],
             [
              1,
              "#f0f921"
             ]
            ],
            "type": "heatmap"
           }
          ],
          "heatmapgl": [
           {
            "colorbar": {
             "outlinewidth": 0,
             "ticks": ""
            },
            "colorscale": [
             [
              0,
              "#0d0887"
             ],
             [
              0.1111111111111111,
              "#46039f"
             ],
             [
              0.2222222222222222,
              "#7201a8"
             ],
             [
              0.3333333333333333,
              "#9c179e"
             ],
             [
              0.4444444444444444,
              "#bd3786"
             ],
             [
              0.5555555555555556,
              "#d8576b"
             ],
             [
              0.6666666666666666,
              "#ed7953"
             ],
             [
              0.7777777777777778,
              "#fb9f3a"
             ],
             [
              0.8888888888888888,
              "#fdca26"
             ],
             [
              1,
              "#f0f921"
             ]
            ],
            "type": "heatmapgl"
           }
          ],
          "histogram": [
           {
            "marker": {
             "pattern": {
              "fillmode": "overlay",
              "size": 10,
              "solidity": 0.2
             }
            },
            "type": "histogram"
           }
          ],
          "histogram2d": [
           {
            "colorbar": {
             "outlinewidth": 0,
             "ticks": ""
            },
            "colorscale": [
             [
              0,
              "#0d0887"
             ],
             [
              0.1111111111111111,
              "#46039f"
             ],
             [
              0.2222222222222222,
              "#7201a8"
             ],
             [
              0.3333333333333333,
              "#9c179e"
             ],
             [
              0.4444444444444444,
              "#bd3786"
             ],
             [
              0.5555555555555556,
              "#d8576b"
             ],
             [
              0.6666666666666666,
              "#ed7953"
             ],
             [
              0.7777777777777778,
              "#fb9f3a"
             ],
             [
              0.8888888888888888,
              "#fdca26"
             ],
             [
              1,
              "#f0f921"
             ]
            ],
            "type": "histogram2d"
           }
          ],
          "histogram2dcontour": [
           {
            "colorbar": {
             "outlinewidth": 0,
             "ticks": ""
            },
            "colorscale": [
             [
              0,
              "#0d0887"
             ],
             [
              0.1111111111111111,
              "#46039f"
             ],
             [
              0.2222222222222222,
              "#7201a8"
             ],
             [
              0.3333333333333333,
              "#9c179e"
             ],
             [
              0.4444444444444444,
              "#bd3786"
             ],
             [
              0.5555555555555556,
              "#d8576b"
             ],
             [
              0.6666666666666666,
              "#ed7953"
             ],
             [
              0.7777777777777778,
              "#fb9f3a"
             ],
             [
              0.8888888888888888,
              "#fdca26"
             ],
             [
              1,
              "#f0f921"
             ]
            ],
            "type": "histogram2dcontour"
           }
          ],
          "mesh3d": [
           {
            "colorbar": {
             "outlinewidth": 0,
             "ticks": ""
            },
            "type": "mesh3d"
           }
          ],
          "parcoords": [
           {
            "line": {
             "colorbar": {
              "outlinewidth": 0,
              "ticks": ""
             }
            },
            "type": "parcoords"
           }
          ],
          "pie": [
           {
            "automargin": true,
            "type": "pie"
           }
          ],
          "scatter": [
           {
            "fillpattern": {
             "fillmode": "overlay",
             "size": 10,
             "solidity": 0.2
            },
            "type": "scatter"
           }
          ],
          "scatter3d": [
           {
            "line": {
             "colorbar": {
              "outlinewidth": 0,
              "ticks": ""
             }
            },
            "marker": {
             "colorbar": {
              "outlinewidth": 0,
              "ticks": ""
             }
            },
            "type": "scatter3d"
           }
          ],
          "scattercarpet": [
           {
            "marker": {
             "colorbar": {
              "outlinewidth": 0,
              "ticks": ""
             }
            },
            "type": "scattercarpet"
           }
          ],
          "scattergeo": [
           {
            "marker": {
             "colorbar": {
              "outlinewidth": 0,
              "ticks": ""
             }
            },
            "type": "scattergeo"
           }
          ],
          "scattergl": [
           {
            "marker": {
             "colorbar": {
              "outlinewidth": 0,
              "ticks": ""
             }
            },
            "type": "scattergl"
           }
          ],
          "scattermapbox": [
           {
            "marker": {
             "colorbar": {
              "outlinewidth": 0,
              "ticks": ""
             }
            },
            "type": "scattermapbox"
           }
          ],
          "scatterpolar": [
           {
            "marker": {
             "colorbar": {
              "outlinewidth": 0,
              "ticks": ""
             }
            },
            "type": "scatterpolar"
           }
          ],
          "scatterpolargl": [
           {
            "marker": {
             "colorbar": {
              "outlinewidth": 0,
              "ticks": ""
             }
            },
            "type": "scatterpolargl"
           }
          ],
          "scatterternary": [
           {
            "marker": {
             "colorbar": {
              "outlinewidth": 0,
              "ticks": ""
             }
            },
            "type": "scatterternary"
           }
          ],
          "surface": [
           {
            "colorbar": {
             "outlinewidth": 0,
             "ticks": ""
            },
            "colorscale": [
             [
              0,
              "#0d0887"
             ],
             [
              0.1111111111111111,
              "#46039f"
             ],
             [
              0.2222222222222222,
              "#7201a8"
             ],
             [
              0.3333333333333333,
              "#9c179e"
             ],
             [
              0.4444444444444444,
              "#bd3786"
             ],
             [
              0.5555555555555556,
              "#d8576b"
             ],
             [
              0.6666666666666666,
              "#ed7953"
             ],
             [
              0.7777777777777778,
              "#fb9f3a"
             ],
             [
              0.8888888888888888,
              "#fdca26"
             ],
             [
              1,
              "#f0f921"
             ]
            ],
            "type": "surface"
           }
          ],
          "table": [
           {
            "cells": {
             "fill": {
              "color": "#EBF0F8"
             },
             "line": {
              "color": "white"
             }
            },
            "header": {
             "fill": {
              "color": "#C8D4E3"
             },
             "line": {
              "color": "white"
             }
            },
            "type": "table"
           }
          ]
         },
         "layout": {
          "annotationdefaults": {
           "arrowcolor": "#2a3f5f",
           "arrowhead": 0,
           "arrowwidth": 1
          },
          "autotypenumbers": "strict",
          "coloraxis": {
           "colorbar": {
            "outlinewidth": 0,
            "ticks": ""
           }
          },
          "colorscale": {
           "diverging": [
            [
             0,
             "#8e0152"
            ],
            [
             0.1,
             "#c51b7d"
            ],
            [
             0.2,
             "#de77ae"
            ],
            [
             0.3,
             "#f1b6da"
            ],
            [
             0.4,
             "#fde0ef"
            ],
            [
             0.5,
             "#f7f7f7"
            ],
            [
             0.6,
             "#e6f5d0"
            ],
            [
             0.7,
             "#b8e186"
            ],
            [
             0.8,
             "#7fbc41"
            ],
            [
             0.9,
             "#4d9221"
            ],
            [
             1,
             "#276419"
            ]
           ],
           "sequential": [
            [
             0,
             "#0d0887"
            ],
            [
             0.1111111111111111,
             "#46039f"
            ],
            [
             0.2222222222222222,
             "#7201a8"
            ],
            [
             0.3333333333333333,
             "#9c179e"
            ],
            [
             0.4444444444444444,
             "#bd3786"
            ],
            [
             0.5555555555555556,
             "#d8576b"
            ],
            [
             0.6666666666666666,
             "#ed7953"
            ],
            [
             0.7777777777777778,
             "#fb9f3a"
            ],
            [
             0.8888888888888888,
             "#fdca26"
            ],
            [
             1,
             "#f0f921"
            ]
           ],
           "sequentialminus": [
            [
             0,
             "#0d0887"
            ],
            [
             0.1111111111111111,
             "#46039f"
            ],
            [
             0.2222222222222222,
             "#7201a8"
            ],
            [
             0.3333333333333333,
             "#9c179e"
            ],
            [
             0.4444444444444444,
             "#bd3786"
            ],
            [
             0.5555555555555556,
             "#d8576b"
            ],
            [
             0.6666666666666666,
             "#ed7953"
            ],
            [
             0.7777777777777778,
             "#fb9f3a"
            ],
            [
             0.8888888888888888,
             "#fdca26"
            ],
            [
             1,
             "#f0f921"
            ]
           ]
          },
          "colorway": [
           "#636efa",
           "#EF553B",
           "#00cc96",
           "#ab63fa",
           "#FFA15A",
           "#19d3f3",
           "#FF6692",
           "#B6E880",
           "#FF97FF",
           "#FECB52"
          ],
          "font": {
           "color": "#2a3f5f"
          },
          "geo": {
           "bgcolor": "white",
           "lakecolor": "white",
           "landcolor": "#E5ECF6",
           "showlakes": true,
           "showland": true,
           "subunitcolor": "white"
          },
          "hoverlabel": {
           "align": "left"
          },
          "hovermode": "closest",
          "mapbox": {
           "style": "light"
          },
          "paper_bgcolor": "white",
          "plot_bgcolor": "#E5ECF6",
          "polar": {
           "angularaxis": {
            "gridcolor": "white",
            "linecolor": "white",
            "ticks": ""
           },
           "bgcolor": "#E5ECF6",
           "radialaxis": {
            "gridcolor": "white",
            "linecolor": "white",
            "ticks": ""
           }
          },
          "scene": {
           "xaxis": {
            "backgroundcolor": "#E5ECF6",
            "gridcolor": "white",
            "gridwidth": 2,
            "linecolor": "white",
            "showbackground": true,
            "ticks": "",
            "zerolinecolor": "white"
           },
           "yaxis": {
            "backgroundcolor": "#E5ECF6",
            "gridcolor": "white",
            "gridwidth": 2,
            "linecolor": "white",
            "showbackground": true,
            "ticks": "",
            "zerolinecolor": "white"
           },
           "zaxis": {
            "backgroundcolor": "#E5ECF6",
            "gridcolor": "white",
            "gridwidth": 2,
            "linecolor": "white",
            "showbackground": true,
            "ticks": "",
            "zerolinecolor": "white"
           }
          },
          "shapedefaults": {
           "line": {
            "color": "#2a3f5f"
           }
          },
          "ternary": {
           "aaxis": {
            "gridcolor": "white",
            "linecolor": "white",
            "ticks": ""
           },
           "baxis": {
            "gridcolor": "white",
            "linecolor": "white",
            "ticks": ""
           },
           "bgcolor": "#E5ECF6",
           "caxis": {
            "gridcolor": "white",
            "linecolor": "white",
            "ticks": ""
           }
          },
          "title": {
           "x": 0.05
          },
          "xaxis": {
           "automargin": true,
           "gridcolor": "white",
           "linecolor": "white",
           "ticks": "",
           "title": {
            "standoff": 15
           },
           "zerolinecolor": "white",
           "zerolinewidth": 2
          },
          "yaxis": {
           "automargin": true,
           "gridcolor": "white",
           "linecolor": "white",
           "ticks": "",
           "title": {
            "standoff": 15
           },
           "zerolinecolor": "white",
           "zerolinewidth": 2
          }
         }
        },
        "title": {
         "text": "Relative Frequency of Jackpots"
        },
        "yaxis": {
         "title": {
          "text": "Relative Frequency"
         }
        }
       }
      }
     },
     "metadata": {},
     "output_type": "display_data"
    }
   ],
   "source": [
    "data = [go.Bar(x=['Three Fair Dice', 'One Fair Two Loaded'], y=[jackpots_freq_this, jackpots_freq_that])]\n",
    "\n",
    "layout = go.Layout(title='Relative Frequency of Jackpots', yaxis=dict(title='Relative Frequency'))\n",
    "\n",
    "fig = go.Figure(data=data, layout=layout)\n",
    "\n",
    "fig.show()"
   ]
  },
  {
   "attachments": {},
   "cell_type": "markdown",
   "id": "92793a09-0024-465d-b272-2ef8b9a6c21c",
   "metadata": {},
   "source": [
    "## Scenario 2"
   ]
  },
  {
   "cell_type": "code",
   "execution_count": 27,
   "id": "7218e98e-6ec0-4766-8793-5b386ce6ee24",
   "metadata": {},
   "outputs": [],
   "source": [
    "from montecarlo import Die"
   ]
  },
  {
   "cell_type": "code",
   "execution_count": 28,
   "id": "a8553806",
   "metadata": {},
   "outputs": [],
   "source": [
    "faces = [1,2,3,4,5,6]"
   ]
  },
  {
   "cell_type": "code",
   "execution_count": 29,
   "id": "10ebe2af",
   "metadata": {},
   "outputs": [],
   "source": [
    "fair_die = Die(faces)"
   ]
  },
  {
   "cell_type": "code",
   "execution_count": 30,
   "id": "b4402fee",
   "metadata": {},
   "outputs": [
    {
     "name": "stdout",
     "output_type": "stream",
     "text": [
      "The weight of face 6 has been changed to 5.0\n"
     ]
    }
   ],
   "source": [
    "type1 = Die(faces)\n",
    "type1.change_weight(6, 5)"
   ]
  },
  {
   "cell_type": "code",
   "execution_count": 31,
   "id": "d6e04c6a",
   "metadata": {},
   "outputs": [
    {
     "name": "stdout",
     "output_type": "stream",
     "text": [
      "The weight of face 1 has been changed to 5.0\n"
     ]
    }
   ],
   "source": [
    "type2 = Die(faces)\n",
    "type2.change_weight(1, 5)"
   ]
  },
  {
   "cell_type": "code",
   "execution_count": 32,
   "id": "57f1ebfb",
   "metadata": {},
   "outputs": [
    {
     "data": {
      "text/html": [
       "<div>\n",
       "<style scoped>\n",
       "    .dataframe tbody tr th:only-of-type {\n",
       "        vertical-align: middle;\n",
       "    }\n",
       "\n",
       "    .dataframe tbody tr th {\n",
       "        vertical-align: top;\n",
       "    }\n",
       "\n",
       "    .dataframe thead th {\n",
       "        text-align: right;\n",
       "    }\n",
       "</style>\n",
       "<table border=\"1\" class=\"dataframe\">\n",
       "  <thead>\n",
       "    <tr style=\"text-align: right;\">\n",
       "      <th></th>\n",
       "      <th>Die 1</th>\n",
       "      <th>Die 2</th>\n",
       "      <th>Die 3</th>\n",
       "      <th>Die 4</th>\n",
       "      <th>Die 5</th>\n",
       "    </tr>\n",
       "    <tr>\n",
       "      <th>Roll Number</th>\n",
       "      <th></th>\n",
       "      <th></th>\n",
       "      <th></th>\n",
       "      <th></th>\n",
       "      <th></th>\n",
       "    </tr>\n",
       "  </thead>\n",
       "  <tbody>\n",
       "    <tr>\n",
       "      <th>0</th>\n",
       "      <td>[1]</td>\n",
       "      <td>[4]</td>\n",
       "      <td>[6]</td>\n",
       "      <td>[2]</td>\n",
       "      <td>[3]</td>\n",
       "    </tr>\n",
       "    <tr>\n",
       "      <th>1</th>\n",
       "      <td>[2]</td>\n",
       "      <td>[1]</td>\n",
       "      <td>[1]</td>\n",
       "      <td>[6]</td>\n",
       "      <td>[3]</td>\n",
       "    </tr>\n",
       "    <tr>\n",
       "      <th>2</th>\n",
       "      <td>[4]</td>\n",
       "      <td>[3]</td>\n",
       "      <td>[3]</td>\n",
       "      <td>[4]</td>\n",
       "      <td>[3]</td>\n",
       "    </tr>\n",
       "    <tr>\n",
       "      <th>3</th>\n",
       "      <td>[3]</td>\n",
       "      <td>[2]</td>\n",
       "      <td>[1]</td>\n",
       "      <td>[4]</td>\n",
       "      <td>[1]</td>\n",
       "    </tr>\n",
       "    <tr>\n",
       "      <th>4</th>\n",
       "      <td>[6]</td>\n",
       "      <td>[4]</td>\n",
       "      <td>[6]</td>\n",
       "      <td>[1]</td>\n",
       "      <td>[2]</td>\n",
       "    </tr>\n",
       "    <tr>\n",
       "      <th>...</th>\n",
       "      <td>...</td>\n",
       "      <td>...</td>\n",
       "      <td>...</td>\n",
       "      <td>...</td>\n",
       "      <td>...</td>\n",
       "    </tr>\n",
       "    <tr>\n",
       "      <th>9995</th>\n",
       "      <td>[4]</td>\n",
       "      <td>[1]</td>\n",
       "      <td>[4]</td>\n",
       "      <td>[4]</td>\n",
       "      <td>[6]</td>\n",
       "    </tr>\n",
       "    <tr>\n",
       "      <th>9996</th>\n",
       "      <td>[1]</td>\n",
       "      <td>[6]</td>\n",
       "      <td>[4]</td>\n",
       "      <td>[6]</td>\n",
       "      <td>[1]</td>\n",
       "    </tr>\n",
       "    <tr>\n",
       "      <th>9997</th>\n",
       "      <td>[2]</td>\n",
       "      <td>[6]</td>\n",
       "      <td>[1]</td>\n",
       "      <td>[6]</td>\n",
       "      <td>[5]</td>\n",
       "    </tr>\n",
       "    <tr>\n",
       "      <th>9998</th>\n",
       "      <td>[2]</td>\n",
       "      <td>[3]</td>\n",
       "      <td>[6]</td>\n",
       "      <td>[6]</td>\n",
       "      <td>[5]</td>\n",
       "    </tr>\n",
       "    <tr>\n",
       "      <th>9999</th>\n",
       "      <td>[2]</td>\n",
       "      <td>[1]</td>\n",
       "      <td>[4]</td>\n",
       "      <td>[4]</td>\n",
       "      <td>[2]</td>\n",
       "    </tr>\n",
       "  </tbody>\n",
       "</table>\n",
       "<p>10000 rows × 5 columns</p>\n",
       "</div>"
      ],
      "text/plain": [
       "            Die 1 Die 2 Die 3 Die 4 Die 5\n",
       "Roll Number                              \n",
       "0             [1]   [4]   [6]   [2]   [3]\n",
       "1             [2]   [1]   [1]   [6]   [3]\n",
       "2             [4]   [3]   [3]   [4]   [3]\n",
       "3             [3]   [2]   [1]   [4]   [1]\n",
       "4             [6]   [4]   [6]   [1]   [2]\n",
       "...           ...   ...   ...   ...   ...\n",
       "9995          [4]   [1]   [4]   [4]   [6]\n",
       "9996          [1]   [6]   [4]   [6]   [1]\n",
       "9997          [2]   [6]   [1]   [6]   [5]\n",
       "9998          [2]   [3]   [6]   [6]   [5]\n",
       "9999          [2]   [1]   [4]   [4]   [2]\n",
       "\n",
       "[10000 rows x 5 columns]"
      ]
     },
     "execution_count": 32,
     "metadata": {},
     "output_type": "execute_result"
    }
   ],
   "source": [
    "fivefair = Game([fair_die, fair_die, fair_die, fair_die, fair_die])\n",
    "fivefair.play(10000)\n",
    "fivefair.show_results()"
   ]
  },
  {
   "cell_type": "code",
   "execution_count": 33,
   "id": "6e2e03d0",
   "metadata": {},
   "outputs": [
    {
     "data": {
      "text/html": [
       "<div>\n",
       "<style scoped>\n",
       "    .dataframe tbody tr th:only-of-type {\n",
       "        vertical-align: middle;\n",
       "    }\n",
       "\n",
       "    .dataframe tbody tr th {\n",
       "        vertical-align: top;\n",
       "    }\n",
       "\n",
       "    .dataframe thead th {\n",
       "        text-align: right;\n",
       "    }\n",
       "</style>\n",
       "<table border=\"1\" class=\"dataframe\">\n",
       "  <thead>\n",
       "    <tr style=\"text-align: right;\">\n",
       "      <th></th>\n",
       "      <th>Die 1</th>\n",
       "      <th>Die 2</th>\n",
       "      <th>Die 3</th>\n",
       "      <th>Die 4</th>\n",
       "      <th>Die 5</th>\n",
       "    </tr>\n",
       "    <tr>\n",
       "      <th>Roll Number</th>\n",
       "      <th></th>\n",
       "      <th></th>\n",
       "      <th></th>\n",
       "      <th></th>\n",
       "      <th></th>\n",
       "    </tr>\n",
       "  </thead>\n",
       "  <tbody>\n",
       "    <tr>\n",
       "      <th>0</th>\n",
       "      <td>[6]</td>\n",
       "      <td>[6]</td>\n",
       "      <td>[1]</td>\n",
       "      <td>[5]</td>\n",
       "      <td>[3]</td>\n",
       "    </tr>\n",
       "    <tr>\n",
       "      <th>1</th>\n",
       "      <td>[6]</td>\n",
       "      <td>[6]</td>\n",
       "      <td>[1]</td>\n",
       "      <td>[5]</td>\n",
       "      <td>[5]</td>\n",
       "    </tr>\n",
       "    <tr>\n",
       "      <th>2</th>\n",
       "      <td>[6]</td>\n",
       "      <td>[2]</td>\n",
       "      <td>[1]</td>\n",
       "      <td>[3]</td>\n",
       "      <td>[4]</td>\n",
       "    </tr>\n",
       "    <tr>\n",
       "      <th>3</th>\n",
       "      <td>[6]</td>\n",
       "      <td>[2]</td>\n",
       "      <td>[6]</td>\n",
       "      <td>[2]</td>\n",
       "      <td>[2]</td>\n",
       "    </tr>\n",
       "    <tr>\n",
       "      <th>4</th>\n",
       "      <td>[6]</td>\n",
       "      <td>[6]</td>\n",
       "      <td>[1]</td>\n",
       "      <td>[5]</td>\n",
       "      <td>[6]</td>\n",
       "    </tr>\n",
       "    <tr>\n",
       "      <th>...</th>\n",
       "      <td>...</td>\n",
       "      <td>...</td>\n",
       "      <td>...</td>\n",
       "      <td>...</td>\n",
       "      <td>...</td>\n",
       "    </tr>\n",
       "    <tr>\n",
       "      <th>9995</th>\n",
       "      <td>[3]</td>\n",
       "      <td>[6]</td>\n",
       "      <td>[5]</td>\n",
       "      <td>[1]</td>\n",
       "      <td>[4]</td>\n",
       "    </tr>\n",
       "    <tr>\n",
       "      <th>9996</th>\n",
       "      <td>[6]</td>\n",
       "      <td>[6]</td>\n",
       "      <td>[5]</td>\n",
       "      <td>[5]</td>\n",
       "      <td>[4]</td>\n",
       "    </tr>\n",
       "    <tr>\n",
       "      <th>9997</th>\n",
       "      <td>[2]</td>\n",
       "      <td>[6]</td>\n",
       "      <td>[2]</td>\n",
       "      <td>[2]</td>\n",
       "      <td>[1]</td>\n",
       "    </tr>\n",
       "    <tr>\n",
       "      <th>9998</th>\n",
       "      <td>[1]</td>\n",
       "      <td>[6]</td>\n",
       "      <td>[1]</td>\n",
       "      <td>[5]</td>\n",
       "      <td>[3]</td>\n",
       "    </tr>\n",
       "    <tr>\n",
       "      <th>9999</th>\n",
       "      <td>[6]</td>\n",
       "      <td>[6]</td>\n",
       "      <td>[1]</td>\n",
       "      <td>[5]</td>\n",
       "      <td>[4]</td>\n",
       "    </tr>\n",
       "  </tbody>\n",
       "</table>\n",
       "<p>10000 rows × 5 columns</p>\n",
       "</div>"
      ],
      "text/plain": [
       "            Die 1 Die 2 Die 3 Die 4 Die 5\n",
       "Roll Number                              \n",
       "0             [6]   [6]   [1]   [5]   [3]\n",
       "1             [6]   [6]   [1]   [5]   [5]\n",
       "2             [6]   [2]   [1]   [3]   [4]\n",
       "3             [6]   [2]   [6]   [2]   [2]\n",
       "4             [6]   [6]   [1]   [5]   [6]\n",
       "...           ...   ...   ...   ...   ...\n",
       "9995          [3]   [6]   [5]   [1]   [4]\n",
       "9996          [6]   [6]   [5]   [5]   [4]\n",
       "9997          [2]   [6]   [2]   [2]   [1]\n",
       "9998          [1]   [6]   [1]   [5]   [3]\n",
       "9999          [6]   [6]   [1]   [5]   [4]\n",
       "\n",
       "[10000 rows x 5 columns]"
      ]
     },
     "execution_count": 33,
     "metadata": {},
     "output_type": "execute_result"
    }
   ],
   "source": [
    "twoone_onetwo_twofair = Game([type1, type1, type2, fair_die, fair_die])\n",
    "twoone_onetwo_twofair.play(10000)\n",
    "twoone_onetwo_twofair.show_results()"
   ]
  },
  {
   "cell_type": "code",
   "execution_count": 34,
   "id": "22c0b698",
   "metadata": {},
   "outputs": [],
   "source": [
    "fairandsquare = Analyzer(fivefair)\n",
    "honest = fairandsquare.jackpot()\n",
    "rolls_fairandsquare = len(fairandsquare.game.show_results())\n",
    "fands_freq = honest/rolls_fairandsquare"
   ]
  },
  {
   "cell_type": "code",
   "execution_count": 35,
   "id": "072ac681",
   "metadata": {},
   "outputs": [],
   "source": [
    "cheated = Analyzer(twoone_onetwo_twofair)\n",
    "shady = cheated.jackpot()\n",
    "rolls_cheated = len(cheated.game.show_results())\n",
    "cheat_freq = shady/rolls_cheated"
   ]
  },
  {
   "cell_type": "code",
   "execution_count": 36,
   "id": "62d0167d",
   "metadata": {},
   "outputs": [
    {
     "data": {
      "application/vnd.plotly.v1+json": {
       "config": {
        "plotlyServerURL": "https://plot.ly"
       },
       "data": [
        {
         "type": "bar",
         "x": [
          "Five Fair Dice",
          "Two Six-Heavy + One One-Heavy + Two Fair"
         ],
         "y": [
          0.0005,
          0.0007
         ]
        }
       ],
       "layout": {
        "template": {
         "data": {
          "bar": [
           {
            "error_x": {
             "color": "#2a3f5f"
            },
            "error_y": {
             "color": "#2a3f5f"
            },
            "marker": {
             "line": {
              "color": "#E5ECF6",
              "width": 0.5
             },
             "pattern": {
              "fillmode": "overlay",
              "size": 10,
              "solidity": 0.2
             }
            },
            "type": "bar"
           }
          ],
          "barpolar": [
           {
            "marker": {
             "line": {
              "color": "#E5ECF6",
              "width": 0.5
             },
             "pattern": {
              "fillmode": "overlay",
              "size": 10,
              "solidity": 0.2
             }
            },
            "type": "barpolar"
           }
          ],
          "carpet": [
           {
            "aaxis": {
             "endlinecolor": "#2a3f5f",
             "gridcolor": "white",
             "linecolor": "white",
             "minorgridcolor": "white",
             "startlinecolor": "#2a3f5f"
            },
            "baxis": {
             "endlinecolor": "#2a3f5f",
             "gridcolor": "white",
             "linecolor": "white",
             "minorgridcolor": "white",
             "startlinecolor": "#2a3f5f"
            },
            "type": "carpet"
           }
          ],
          "choropleth": [
           {
            "colorbar": {
             "outlinewidth": 0,
             "ticks": ""
            },
            "type": "choropleth"
           }
          ],
          "contour": [
           {
            "colorbar": {
             "outlinewidth": 0,
             "ticks": ""
            },
            "colorscale": [
             [
              0,
              "#0d0887"
             ],
             [
              0.1111111111111111,
              "#46039f"
             ],
             [
              0.2222222222222222,
              "#7201a8"
             ],
             [
              0.3333333333333333,
              "#9c179e"
             ],
             [
              0.4444444444444444,
              "#bd3786"
             ],
             [
              0.5555555555555556,
              "#d8576b"
             ],
             [
              0.6666666666666666,
              "#ed7953"
             ],
             [
              0.7777777777777778,
              "#fb9f3a"
             ],
             [
              0.8888888888888888,
              "#fdca26"
             ],
             [
              1,
              "#f0f921"
             ]
            ],
            "type": "contour"
           }
          ],
          "contourcarpet": [
           {
            "colorbar": {
             "outlinewidth": 0,
             "ticks": ""
            },
            "type": "contourcarpet"
           }
          ],
          "heatmap": [
           {
            "colorbar": {
             "outlinewidth": 0,
             "ticks": ""
            },
            "colorscale": [
             [
              0,
              "#0d0887"
             ],
             [
              0.1111111111111111,
              "#46039f"
             ],
             [
              0.2222222222222222,
              "#7201a8"
             ],
             [
              0.3333333333333333,
              "#9c179e"
             ],
             [
              0.4444444444444444,
              "#bd3786"
             ],
             [
              0.5555555555555556,
              "#d8576b"
             ],
             [
              0.6666666666666666,
              "#ed7953"
             ],
             [
              0.7777777777777778,
              "#fb9f3a"
             ],
             [
              0.8888888888888888,
              "#fdca26"
             ],
             [
              1,
              "#f0f921"
             ]
            ],
            "type": "heatmap"
           }
          ],
          "heatmapgl": [
           {
            "colorbar": {
             "outlinewidth": 0,
             "ticks": ""
            },
            "colorscale": [
             [
              0,
              "#0d0887"
             ],
             [
              0.1111111111111111,
              "#46039f"
             ],
             [
              0.2222222222222222,
              "#7201a8"
             ],
             [
              0.3333333333333333,
              "#9c179e"
             ],
             [
              0.4444444444444444,
              "#bd3786"
             ],
             [
              0.5555555555555556,
              "#d8576b"
             ],
             [
              0.6666666666666666,
              "#ed7953"
             ],
             [
              0.7777777777777778,
              "#fb9f3a"
             ],
             [
              0.8888888888888888,
              "#fdca26"
             ],
             [
              1,
              "#f0f921"
             ]
            ],
            "type": "heatmapgl"
           }
          ],
          "histogram": [
           {
            "marker": {
             "pattern": {
              "fillmode": "overlay",
              "size": 10,
              "solidity": 0.2
             }
            },
            "type": "histogram"
           }
          ],
          "histogram2d": [
           {
            "colorbar": {
             "outlinewidth": 0,
             "ticks": ""
            },
            "colorscale": [
             [
              0,
              "#0d0887"
             ],
             [
              0.1111111111111111,
              "#46039f"
             ],
             [
              0.2222222222222222,
              "#7201a8"
             ],
             [
              0.3333333333333333,
              "#9c179e"
             ],
             [
              0.4444444444444444,
              "#bd3786"
             ],
             [
              0.5555555555555556,
              "#d8576b"
             ],
             [
              0.6666666666666666,
              "#ed7953"
             ],
             [
              0.7777777777777778,
              "#fb9f3a"
             ],
             [
              0.8888888888888888,
              "#fdca26"
             ],
             [
              1,
              "#f0f921"
             ]
            ],
            "type": "histogram2d"
           }
          ],
          "histogram2dcontour": [
           {
            "colorbar": {
             "outlinewidth": 0,
             "ticks": ""
            },
            "colorscale": [
             [
              0,
              "#0d0887"
             ],
             [
              0.1111111111111111,
              "#46039f"
             ],
             [
              0.2222222222222222,
              "#7201a8"
             ],
             [
              0.3333333333333333,
              "#9c179e"
             ],
             [
              0.4444444444444444,
              "#bd3786"
             ],
             [
              0.5555555555555556,
              "#d8576b"
             ],
             [
              0.6666666666666666,
              "#ed7953"
             ],
             [
              0.7777777777777778,
              "#fb9f3a"
             ],
             [
              0.8888888888888888,
              "#fdca26"
             ],
             [
              1,
              "#f0f921"
             ]
            ],
            "type": "histogram2dcontour"
           }
          ],
          "mesh3d": [
           {
            "colorbar": {
             "outlinewidth": 0,
             "ticks": ""
            },
            "type": "mesh3d"
           }
          ],
          "parcoords": [
           {
            "line": {
             "colorbar": {
              "outlinewidth": 0,
              "ticks": ""
             }
            },
            "type": "parcoords"
           }
          ],
          "pie": [
           {
            "automargin": true,
            "type": "pie"
           }
          ],
          "scatter": [
           {
            "fillpattern": {
             "fillmode": "overlay",
             "size": 10,
             "solidity": 0.2
            },
            "type": "scatter"
           }
          ],
          "scatter3d": [
           {
            "line": {
             "colorbar": {
              "outlinewidth": 0,
              "ticks": ""
             }
            },
            "marker": {
             "colorbar": {
              "outlinewidth": 0,
              "ticks": ""
             }
            },
            "type": "scatter3d"
           }
          ],
          "scattercarpet": [
           {
            "marker": {
             "colorbar": {
              "outlinewidth": 0,
              "ticks": ""
             }
            },
            "type": "scattercarpet"
           }
          ],
          "scattergeo": [
           {
            "marker": {
             "colorbar": {
              "outlinewidth": 0,
              "ticks": ""
             }
            },
            "type": "scattergeo"
           }
          ],
          "scattergl": [
           {
            "marker": {
             "colorbar": {
              "outlinewidth": 0,
              "ticks": ""
             }
            },
            "type": "scattergl"
           }
          ],
          "scattermapbox": [
           {
            "marker": {
             "colorbar": {
              "outlinewidth": 0,
              "ticks": ""
             }
            },
            "type": "scattermapbox"
           }
          ],
          "scatterpolar": [
           {
            "marker": {
             "colorbar": {
              "outlinewidth": 0,
              "ticks": ""
             }
            },
            "type": "scatterpolar"
           }
          ],
          "scatterpolargl": [
           {
            "marker": {
             "colorbar": {
              "outlinewidth": 0,
              "ticks": ""
             }
            },
            "type": "scatterpolargl"
           }
          ],
          "scatterternary": [
           {
            "marker": {
             "colorbar": {
              "outlinewidth": 0,
              "ticks": ""
             }
            },
            "type": "scatterternary"
           }
          ],
          "surface": [
           {
            "colorbar": {
             "outlinewidth": 0,
             "ticks": ""
            },
            "colorscale": [
             [
              0,
              "#0d0887"
             ],
             [
              0.1111111111111111,
              "#46039f"
             ],
             [
              0.2222222222222222,
              "#7201a8"
             ],
             [
              0.3333333333333333,
              "#9c179e"
             ],
             [
              0.4444444444444444,
              "#bd3786"
             ],
             [
              0.5555555555555556,
              "#d8576b"
             ],
             [
              0.6666666666666666,
              "#ed7953"
             ],
             [
              0.7777777777777778,
              "#fb9f3a"
             ],
             [
              0.8888888888888888,
              "#fdca26"
             ],
             [
              1,
              "#f0f921"
             ]
            ],
            "type": "surface"
           }
          ],
          "table": [
           {
            "cells": {
             "fill": {
              "color": "#EBF0F8"
             },
             "line": {
              "color": "white"
             }
            },
            "header": {
             "fill": {
              "color": "#C8D4E3"
             },
             "line": {
              "color": "white"
             }
            },
            "type": "table"
           }
          ]
         },
         "layout": {
          "annotationdefaults": {
           "arrowcolor": "#2a3f5f",
           "arrowhead": 0,
           "arrowwidth": 1
          },
          "autotypenumbers": "strict",
          "coloraxis": {
           "colorbar": {
            "outlinewidth": 0,
            "ticks": ""
           }
          },
          "colorscale": {
           "diverging": [
            [
             0,
             "#8e0152"
            ],
            [
             0.1,
             "#c51b7d"
            ],
            [
             0.2,
             "#de77ae"
            ],
            [
             0.3,
             "#f1b6da"
            ],
            [
             0.4,
             "#fde0ef"
            ],
            [
             0.5,
             "#f7f7f7"
            ],
            [
             0.6,
             "#e6f5d0"
            ],
            [
             0.7,
             "#b8e186"
            ],
            [
             0.8,
             "#7fbc41"
            ],
            [
             0.9,
             "#4d9221"
            ],
            [
             1,
             "#276419"
            ]
           ],
           "sequential": [
            [
             0,
             "#0d0887"
            ],
            [
             0.1111111111111111,
             "#46039f"
            ],
            [
             0.2222222222222222,
             "#7201a8"
            ],
            [
             0.3333333333333333,
             "#9c179e"
            ],
            [
             0.4444444444444444,
             "#bd3786"
            ],
            [
             0.5555555555555556,
             "#d8576b"
            ],
            [
             0.6666666666666666,
             "#ed7953"
            ],
            [
             0.7777777777777778,
             "#fb9f3a"
            ],
            [
             0.8888888888888888,
             "#fdca26"
            ],
            [
             1,
             "#f0f921"
            ]
           ],
           "sequentialminus": [
            [
             0,
             "#0d0887"
            ],
            [
             0.1111111111111111,
             "#46039f"
            ],
            [
             0.2222222222222222,
             "#7201a8"
            ],
            [
             0.3333333333333333,
             "#9c179e"
            ],
            [
             0.4444444444444444,
             "#bd3786"
            ],
            [
             0.5555555555555556,
             "#d8576b"
            ],
            [
             0.6666666666666666,
             "#ed7953"
            ],
            [
             0.7777777777777778,
             "#fb9f3a"
            ],
            [
             0.8888888888888888,
             "#fdca26"
            ],
            [
             1,
             "#f0f921"
            ]
           ]
          },
          "colorway": [
           "#636efa",
           "#EF553B",
           "#00cc96",
           "#ab63fa",
           "#FFA15A",
           "#19d3f3",
           "#FF6692",
           "#B6E880",
           "#FF97FF",
           "#FECB52"
          ],
          "font": {
           "color": "#2a3f5f"
          },
          "geo": {
           "bgcolor": "white",
           "lakecolor": "white",
           "landcolor": "#E5ECF6",
           "showlakes": true,
           "showland": true,
           "subunitcolor": "white"
          },
          "hoverlabel": {
           "align": "left"
          },
          "hovermode": "closest",
          "mapbox": {
           "style": "light"
          },
          "paper_bgcolor": "white",
          "plot_bgcolor": "#E5ECF6",
          "polar": {
           "angularaxis": {
            "gridcolor": "white",
            "linecolor": "white",
            "ticks": ""
           },
           "bgcolor": "#E5ECF6",
           "radialaxis": {
            "gridcolor": "white",
            "linecolor": "white",
            "ticks": ""
           }
          },
          "scene": {
           "xaxis": {
            "backgroundcolor": "#E5ECF6",
            "gridcolor": "white",
            "gridwidth": 2,
            "linecolor": "white",
            "showbackground": true,
            "ticks": "",
            "zerolinecolor": "white"
           },
           "yaxis": {
            "backgroundcolor": "#E5ECF6",
            "gridcolor": "white",
            "gridwidth": 2,
            "linecolor": "white",
            "showbackground": true,
            "ticks": "",
            "zerolinecolor": "white"
           },
           "zaxis": {
            "backgroundcolor": "#E5ECF6",
            "gridcolor": "white",
            "gridwidth": 2,
            "linecolor": "white",
            "showbackground": true,
            "ticks": "",
            "zerolinecolor": "white"
           }
          },
          "shapedefaults": {
           "line": {
            "color": "#2a3f5f"
           }
          },
          "ternary": {
           "aaxis": {
            "gridcolor": "white",
            "linecolor": "white",
            "ticks": ""
           },
           "baxis": {
            "gridcolor": "white",
            "linecolor": "white",
            "ticks": ""
           },
           "bgcolor": "#E5ECF6",
           "caxis": {
            "gridcolor": "white",
            "linecolor": "white",
            "ticks": ""
           }
          },
          "title": {
           "x": 0.05
          },
          "xaxis": {
           "automargin": true,
           "gridcolor": "white",
           "linecolor": "white",
           "ticks": "",
           "title": {
            "standoff": 15
           },
           "zerolinecolor": "white",
           "zerolinewidth": 2
          },
          "yaxis": {
           "automargin": true,
           "gridcolor": "white",
           "linecolor": "white",
           "ticks": "",
           "title": {
            "standoff": 15
           },
           "zerolinecolor": "white",
           "zerolinewidth": 2
          }
         }
        },
        "title": {
         "text": "Relative Frequency of Jackpots"
        },
        "yaxis": {
         "title": {
          "text": "Relative Frequency"
         }
        }
       }
      }
     },
     "metadata": {},
     "output_type": "display_data"
    }
   ],
   "source": [
    "data = [go.Bar(x=['Five Fair Dice', 'Two Six-Heavy + One One-Heavy + Two Fair'], y=[fands_freq, cheat_freq])]\n",
    "\n",
    "layout = go.Layout(title='Relative Frequency of Jackpots', yaxis=dict(title='Relative Frequency'))\n",
    "\n",
    "fig = go.Figure(data=data, layout=layout)\n",
    "\n",
    "fig.show()"
   ]
  },
  {
   "cell_type": "code",
   "execution_count": 37,
   "id": "f7287d6c",
   "metadata": {},
   "outputs": [],
   "source": [
    "import plotly.express as px"
   ]
  },
  {
   "cell_type": "code",
   "execution_count": 38,
   "id": "05fce394",
   "metadata": {},
   "outputs": [],
   "source": [
    "faircombos = fairandsquare.combo()"
   ]
  },
  {
   "cell_type": "code",
   "execution_count": 39,
   "id": "8b3ab084",
   "metadata": {},
   "outputs": [
    {
     "data": {
      "text/html": [
       "<div>\n",
       "<style scoped>\n",
       "    .dataframe tbody tr th:only-of-type {\n",
       "        vertical-align: middle;\n",
       "    }\n",
       "\n",
       "    .dataframe tbody tr th {\n",
       "        vertical-align: top;\n",
       "    }\n",
       "\n",
       "    .dataframe thead th {\n",
       "        text-align: right;\n",
       "    }\n",
       "</style>\n",
       "<table border=\"1\" class=\"dataframe\">\n",
       "  <thead>\n",
       "    <tr style=\"text-align: right;\">\n",
       "      <th></th>\n",
       "      <th>count</th>\n",
       "    </tr>\n",
       "    <tr>\n",
       "      <th>combo</th>\n",
       "      <th></th>\n",
       "    </tr>\n",
       "  </thead>\n",
       "  <tbody>\n",
       "    <tr>\n",
       "      <th>([1], [3], [4], [5], [6])</th>\n",
       "      <td>172</td>\n",
       "    </tr>\n",
       "    <tr>\n",
       "      <th>([1], [2], [3], [4], [6])</th>\n",
       "      <td>162</td>\n",
       "    </tr>\n",
       "    <tr>\n",
       "      <th>([2], [3], [4], [5], [6])</th>\n",
       "      <td>156</td>\n",
       "    </tr>\n",
       "    <tr>\n",
       "      <th>([1], [2], [4], [5], [6])</th>\n",
       "      <td>153</td>\n",
       "    </tr>\n",
       "    <tr>\n",
       "      <th>([1], [2], [3], [4], [5])</th>\n",
       "      <td>141</td>\n",
       "    </tr>\n",
       "    <tr>\n",
       "      <th>([1], [2], [3], [5], [6])</th>\n",
       "      <td>141</td>\n",
       "    </tr>\n",
       "    <tr>\n",
       "      <th>([1], [2], [3], [4], [4])</th>\n",
       "      <td>97</td>\n",
       "    </tr>\n",
       "    <tr>\n",
       "      <th>([2], [3], [3], [4], [5])</th>\n",
       "      <td>95</td>\n",
       "    </tr>\n",
       "    <tr>\n",
       "      <th>([3], [3], [4], [5], [6])</th>\n",
       "      <td>93</td>\n",
       "    </tr>\n",
       "    <tr>\n",
       "      <th>([2], [3], [3], [5], [6])</th>\n",
       "      <td>90</td>\n",
       "    </tr>\n",
       "  </tbody>\n",
       "</table>\n",
       "</div>"
      ],
      "text/plain": [
       "                           count\n",
       "combo                           \n",
       "([1], [3], [4], [5], [6])    172\n",
       "([1], [2], [3], [4], [6])    162\n",
       "([2], [3], [4], [5], [6])    156\n",
       "([1], [2], [4], [5], [6])    153\n",
       "([1], [2], [3], [4], [5])    141\n",
       "([1], [2], [3], [5], [6])    141\n",
       "([1], [2], [3], [4], [4])     97\n",
       "([2], [3], [3], [4], [5])     95\n",
       "([3], [3], [4], [5], [6])     93\n",
       "([2], [3], [3], [5], [6])     90"
      ]
     },
     "execution_count": 39,
     "metadata": {},
     "output_type": "execute_result"
    }
   ],
   "source": [
    "faircombossorted = faircombos.sort_values(by=['count'], ascending=False)\n",
    "fairtop10 = faircombossorted.head(10)\n",
    "fairtop10"
   ]
  },
  {
   "cell_type": "code",
   "execution_count": 40,
   "id": "7ba8a435",
   "metadata": {},
   "outputs": [
    {
     "data": {
      "text/plain": [
       "<AxesSubplot:xlabel='combo'>"
      ]
     },
     "execution_count": 40,
     "metadata": {},
     "output_type": "execute_result"
    },
    {
     "data": {
      "image/png": "[encoded data removed]",
      "text/plain": [
       "<Figure size 640x480 with 1 Axes>"
      ]
     },
     "metadata": {},
     "output_type": "display_data"
    }
   ],
   "source": [
    "fairtop10.plot.bar()"
   ]
  },
  {
   "cell_type": "code",
   "execution_count": 41,
   "id": "09afa9fa",
   "metadata": {},
   "outputs": [],
   "source": [
    "cheatcombos = cheated.combo()"
   ]
  },
  {
   "cell_type": "code",
   "execution_count": 42,
   "id": "653f13e3",
   "metadata": {},
   "outputs": [
    {
     "data": {
      "text/html": [
       "<div>\n",
       "<style scoped>\n",
       "    .dataframe tbody tr th:only-of-type {\n",
       "        vertical-align: middle;\n",
       "    }\n",
       "\n",
       "    .dataframe tbody tr th {\n",
       "        vertical-align: top;\n",
       "    }\n",
       "\n",
       "    .dataframe thead th {\n",
       "        text-align: right;\n",
       "    }\n",
       "</style>\n",
       "<table border=\"1\" class=\"dataframe\">\n",
       "  <thead>\n",
       "    <tr style=\"text-align: right;\">\n",
       "      <th></th>\n",
       "      <th>count</th>\n",
       "    </tr>\n",
       "    <tr>\n",
       "      <th>combo</th>\n",
       "      <th></th>\n",
       "    </tr>\n",
       "  </thead>\n",
       "  <tbody>\n",
       "    <tr>\n",
       "      <th>([1], [2], [3], [6], [6])</th>\n",
       "      <td>230</td>\n",
       "    </tr>\n",
       "    <tr>\n",
       "      <th>([1], [3], [4], [6], [6])</th>\n",
       "      <td>216</td>\n",
       "    </tr>\n",
       "    <tr>\n",
       "      <th>([1], [2], [4], [6], [6])</th>\n",
       "      <td>211</td>\n",
       "    </tr>\n",
       "    <tr>\n",
       "      <th>([1], [3], [5], [6], [6])</th>\n",
       "      <td>197</td>\n",
       "    </tr>\n",
       "    <tr>\n",
       "      <th>([1], [2], [5], [6], [6])</th>\n",
       "      <td>191</td>\n",
       "    </tr>\n",
       "    <tr>\n",
       "      <th>([1], [2], [3], [4], [6])</th>\n",
       "      <td>190</td>\n",
       "    </tr>\n",
       "    <tr>\n",
       "      <th>([1], [3], [4], [5], [6])</th>\n",
       "      <td>188</td>\n",
       "    </tr>\n",
       "    <tr>\n",
       "      <th>([1], [2], [3], [5], [6])</th>\n",
       "      <td>174</td>\n",
       "    </tr>\n",
       "    <tr>\n",
       "      <th>([1], [4], [5], [6], [6])</th>\n",
       "      <td>174</td>\n",
       "    </tr>\n",
       "    <tr>\n",
       "      <th>([1], [2], [4], [5], [6])</th>\n",
       "      <td>164</td>\n",
       "    </tr>\n",
       "  </tbody>\n",
       "</table>\n",
       "</div>"
      ],
      "text/plain": [
       "                           count\n",
       "combo                           \n",
       "([1], [2], [3], [6], [6])    230\n",
       "([1], [3], [4], [6], [6])    216\n",
       "([1], [2], [4], [6], [6])    211\n",
       "([1], [3], [5], [6], [6])    197\n",
       "([1], [2], [5], [6], [6])    191\n",
       "([1], [2], [3], [4], [6])    190\n",
       "([1], [3], [4], [5], [6])    188\n",
       "([1], [2], [3], [5], [6])    174\n",
       "([1], [4], [5], [6], [6])    174\n",
       "([1], [2], [4], [5], [6])    164"
      ]
     },
     "execution_count": 42,
     "metadata": {},
     "output_type": "execute_result"
    }
   ],
   "source": [
    "cheatcombossorted = cheatcombos.sort_values(by=['count'], ascending=False)\n",
    "cheattop10 = cheatcombossorted.head(10)\n",
    "cheattop10"
   ]
  },
  {
   "cell_type": "code",
   "execution_count": 43,
   "id": "f1f9fc32",
   "metadata": {},
   "outputs": [
    {
     "data": {
      "text/plain": [
       "<AxesSubplot:xlabel='combo'>"
      ]
     },
     "execution_count": 43,
     "metadata": {},
     "output_type": "execute_result"
    },
    {
     "data": {
      "image/png": "[encoded data removed]",
      "text/plain": [
       "<Figure size 640x480 with 1 Axes>"
      ]
     },
     "metadata": {},
     "output_type": "display_data"
    }
   ],
   "source": [
    "cheattop10.plot.bar()"
   ]
  },
  {
   "attachments": {},
   "cell_type": "markdown",
   "id": "1b47f5b6-188d-4d24-9c2f-687b430e6624",
   "metadata": {},
   "source": [
    "## Scenario 3"
   ]
  },
  {
   "cell_type": "code",
   "execution_count": 44,
   "id": "ad6d2878-f832-4065-98a3-1ea78ff0a6d3",
   "metadata": {},
   "outputs": [
    {
     "name": "stdout",
     "output_type": "stream",
     "text": [
      "The weight of face A has been changed to 8.4966\n",
      "The weight of face B has been changed to 2.072\n",
      "The weight of face C has been changed to 4.5388\n",
      "The weight of face D has been changed to 3.3844\n",
      "The weight of face E has been changed to 11.1607\n",
      "The weight of face F has been changed to 1.8121\n",
      "The weight of face G has been changed to 2.4705\n",
      "The weight of face H has been changed to 3.0034\n",
      "The weight of face I has been changed to 7.5448\n",
      "The weight of face J has been changed to 0.1965\n",
      "The weight of face K has been changed to 1.1016\n",
      "The weight of face L has been changed to 5.4893\n",
      "The weight of face M has been changed to 3.0129\n",
      "The weight of face N has been changed to 6.6544\n",
      "The weight of face O has been changed to 7.1635\n",
      "The weight of face P has been changed to 3.1671\n",
      "The weight of face Q has been changed to 0.1962\n",
      "The weight of face R has been changed to 7.5809\n",
      "The weight of face S has been changed to 5.7351\n",
      "The weight of face T has been changed to 6.9509\n",
      "The weight of face U has been changed to 3.6308\n",
      "The weight of face V has been changed to 1.0074\n",
      "The weight of face W has been changed to 1.2899\n",
      "The weight of face X has been changed to 0.2902\n",
      "The weight of face Y has been changed to 1.7779\n",
      "The weight of face Z has been changed to 0.2722\n"
     ]
    }
   ],
   "source": [
    "dice_weights = {'A': 8.4966, 'B': 2.0720, 'C': 4.5388, 'D': 3.3844, 'E': 11.1607, 'F': 1.8121, 'G': 2.4705, \n",
    "                'H': 3.0034, 'I': 7.5448, 'J': 0.1965, 'K': 1.1016, 'L': 5.4893, 'M': 3.0129, 'N': 6.6544, \n",
    "                'O': 7.1635, 'P': 3.1671, 'Q': 0.1962, 'R': 7.5809, 'S': 5.7351, 'T': 6.9509, 'U': 3.6308, \n",
    "                'V': 1.0074, 'W': 1.2899, 'X': 0.2902, 'Y': 1.7779, 'Z': 0.2722}\n",
    "\n",
    "alfabeta = Die(faces=list(dice_weights.keys()))\n",
    "\n",
    "for face, weight in dice_weights.items():\n",
    "    alfabeta.change_weight(face, weight)"
   ]
  },
  {
   "cell_type": "code",
   "execution_count": 45,
   "id": "5fda7368",
   "metadata": {},
   "outputs": [],
   "source": [
    "wordplay = Game([alfabeta, alfabeta, alfabeta, alfabeta, alfabeta])\n",
    "wordplay.play(1000)\n",
    "palabras = wordplay.show_results()"
   ]
  },
  {
   "attachments": {},
   "cell_type": "markdown",
   "id": "1a245e07",
   "metadata": {},
   "source": [
    "Surprisingly few looked like English words - it wasn't until number 134 that I found a recognizable word, and even then it was a proper noun \"Fagan\" (a surname) that comes from Gaeilge (Irish, in Celtic ☘️ language family). Need a larger sample, but I'd say roughly 1:134"
   ]
  },
  {
   "cell_type": "code",
   "execution_count": 46,
   "id": "2ecaaa93",
   "metadata": {},
   "outputs": [
    {
     "data": {
      "text/plain": [
       "0.007462686567164179"
      ]
     },
     "execution_count": 46,
     "metadata": {},
     "output_type": "execute_result"
    }
   ],
   "source": [
    "1 / 134"
   ]
  },
  {
   "attachments": {},
   "cell_type": "markdown",
   "id": "60e044cf",
   "metadata": {},
   "source": [
    "Proportion is therefore approx 0.007"
   ]
  },
  {
   "attachments": {},
   "cell_type": "markdown",
   "id": "6ced706c-19e7-4e79-b171-bfb076f822b4",
   "metadata": {},
   "source": [
    "# Directory Listing\n",
    "\n",
    "A code block that executes the following bash command: \n",
    "\n",
    "```bash\n",
    "!ls -lRF -o\n",
    "```"
   ]
  },
  {
   "cell_type": "code",
   "execution_count": 47,
   "id": "5dbd35c2-e479-4179-b792-997d4293ba96",
   "metadata": {},
   "outputs": [
    {
     "name": "stdout",
     "output_type": "stream",
     "text": [
      "total 1968\n",
      "drwxr-xr-x  17 tommy     544 May  5 23:41 \u001b[34mDetritus\u001b[m\u001b[m/\n",
      "-rw-r--r--@  1 tommy  135915 May  5 23:53 FinalProjectSubmissionTemplate.ipynb\n",
      "-rw-------@  1 tommy  740625 May  5 23:56 FlynnFinalProjectSubmissionTemplate.html\n",
      "drwxr-xr-x   7 tommy     224 May  5 23:39 \u001b[34mProject_Global\u001b[m\u001b[m/\n",
      "-rw-r--r--@  1 tommy    6784 May  5 23:47 README.md\n",
      "-rw-r--r--@  1 tommy  118774 May  5 23:13 montecarlo_demo.ipynb\n",
      "\n",
      "./Detritus:\n",
      "total 368\n",
      "-rw-r--r--@  1 tommy  37632 May  5 16:30 FinalProjectInstructions.pdf\n",
      "-rw-r--r--@  1 tommy  17547 May  5 23:20 README.html\n",
      "drwxr-xr-x@  4 tommy    128 May  5 23:25 \u001b[34mREADME_files\u001b[m\u001b[m/\n",
      "-rw-r--r--   1 tommy  11895 May  5 21:08 Untitled.ipynb\n",
      "-rw-r--r--@  1 tommy  74316 May  5 22:28 Untitled1.ipynb\n",
      "drwxr-xr-x@ 11 tommy    352 May  5 22:56 \u001b[34m__pycache__\u001b[m\u001b[m/\n",
      "-rw-r--r--@  1 tommy   3315 May  5 22:44 analyzer-results.txt\n",
      "-rw-r--r--@  1 tommy    980 May  5 22:41 analyzer_tests.py\n",
      "-rw-r--r--@  1 tommy    254 May  5 22:01 die-results.txt\n",
      "-rw-r--r--@  1 tommy   2182 May  5 22:00 die_tests.py\n",
      "-rw-r--r--@  1 tommy   4607 May  5 13:20 docstrings.py\n",
      "-rw-r--r--@  1 tommy    101 May  5 22:10 game-results.txt\n",
      "-rw-r--r--@  1 tommy   1461 May  5 22:05 game_tests.py\n",
      "-rw-r--r--@  1 tommy   2182 May  5 21:59 unit_tests.py\n",
      "\n",
      "./Detritus/README_files:\n",
      "total 0\n",
      "drwxr-xr-x@ 6 tommy  192 May  5 23:25 \u001b[34mlibs\u001b[m\u001b[m/\n",
      "\n",
      "./Detritus/README_files/libs:\n",
      "total 0\n",
      "drwxr-xr-x@ 6 tommy  192 May  5 23:20 \u001b[34mbootstrap\u001b[m\u001b[m/\n",
      "drwxr-xr-x@ 3 tommy   96 May  5 23:20 \u001b[34mclipboard\u001b[m\u001b[m/\n",
      "drwxr-xr-x@ 8 tommy  256 May  5 23:20 \u001b[34mquarto-html\u001b[m\u001b[m/\n",
      "\n",
      "./Detritus/README_files/libs/bootstrap:\n",
      "total 1184\n",
      "-rw-r--r--@ 1 tommy   95517 Apr  5 18:44 bootstrap-icons.css\n",
      "-rw-r--r--@ 1 tommy  164168 Apr  5 18:44 bootstrap-icons.woff\n",
      "-rw-r--r--@ 1 tommy  256729 May  5 23:19 bootstrap.min.css\n",
      "-rw-r--r--@ 1 tommy   78129 Apr  5 18:44 bootstrap.min.js\n",
      "\n",
      "./Detritus/README_files/libs/clipboard:\n",
      "total 24\n",
      "-rw-r--r--@ 1 tommy  9160 Apr  5 18:44 clipboard.min.js\n",
      "\n",
      "./Detritus/README_files/libs/quarto-html:\n",
      "total 176\n",
      "-rw-r--r--@ 1 tommy   6008 Apr  5 18:44 anchor.min.js\n",
      "-rw-r--r--@ 1 tommy  19728 Apr  5 18:44 popper.min.js\n",
      "-rw-r--r--@ 1 tommy   3135 Apr 18 19:39 quarto-syntax-highlighting.css\n",
      "-rw-r--r--@ 1 tommy  27867 Apr  5 18:44 quarto.js\n",
      "-rw-r--r--@ 1 tommy   1409 Apr  5 18:44 tippy.css\n",
      "-rw-r--r--@ 1 tommy  24033 Apr  5 18:44 tippy.umd.min.js\n",
      "\n",
      "./Detritus/__pycache__:\n",
      "total 112\n",
      "-rw-r--r--@ 1 tommy  1566 May  5 22:41 analyzer_tests.cpython-39.pyc\n",
      "-rw-r--r--@ 1 tommy  2374 May  5 22:00 die_tests.cpython-39.pyc\n",
      "-rw-r--r--@ 1 tommy  1719 May  5 22:05 game_tests.cpython-39.pyc\n",
      "-rw-r--r--@ 1 tommy  7598 May  5 20:57 montecarlo.cpython-311.pyc\n",
      "-rw-r--r--@ 1 tommy  9052 May  5 22:56 montecarlo.cpython-39.pyc\n",
      "-rw-r--r--@ 1 tommy   170 May  5 12:00 unit_test.cpython-311.pyc\n",
      "-rw-r--r--@ 1 tommy   152 May  5 12:00 unit_test.cpython-39.pyc\n",
      "-rw-r--r--@ 1 tommy  9481 May  5 20:58 unit_tests.cpython-311.pyc\n",
      "-rw-r--r--@ 1 tommy  2375 May  5 21:59 unit_tests.cpython-39.pyc\n",
      "\n",
      "./Project_Global:\n",
      "total 16\n",
      "-rw-r--r--@ 1 tommy  1072 May  5 23:39 LICENSE.txt\n",
      "-rw-r--r--@ 1 tommy   778 May  5 23:37 setup.py\n",
      "drwxr-xr-x  4 tommy   128 May  5 23:26 \u001b[34msrc\u001b[m\u001b[m/\n",
      "drwxr-xr-x  7 tommy   224 May  5 23:25 \u001b[34mtests\u001b[m\u001b[m/\n",
      "\n",
      "./Project_Global/src:\n",
      "total 0\n",
      "drwxr-xr-x  4 tommy  128 May  5 23:27 \u001b[34mmontecarlo\u001b[m\u001b[m/\n",
      "\n",
      "./Project_Global/src/montecarlo:\n",
      "total 24\n",
      "-rw-r--r--@ 1 tommy     0 May  5 23:25 __init__.py\n",
      "-rw-r--r--@ 1 tommy  8367 May  5 22:56 montecarlo.py\n",
      "\n",
      "./Project_Global/tests:\n",
      "total 24\n",
      "-rw-r--r--@ 1 tommy     0 May  5 23:25 __init__.py\n",
      "drwxr-xr-x@ 4 tommy   128 May  5 23:25 \u001b[34m__pycache__\u001b[m\u001b[m/\n",
      "-rw-r--r--@ 1 tommy  4635 May  5 22:42 all_tests.py\n",
      "-rw-r--r--@ 1 tommy  3713 May  5 22:45 all_unit_test_results.txt\n",
      "\n",
      "./Project_Global/tests/__pycache__:\n",
      "total 24\n",
      "-rw-r--r--@ 1 tommy   157 May  5 23:25 __init__.cpython-39.pyc\n",
      "-rw-r--r--@ 1 tommy  5039 May  5 23:25 all_tests.cpython-39.pyc\n"
     ]
    }
   ],
   "source": [
    "!ls -lRF -o"
   ]
  },
  {
   "attachments": {},
   "cell_type": "markdown",
   "id": "c4df835c-3cd7-4c74-a4de-51638607680b",
   "metadata": {
    "tags": []
   },
   "source": [
    "# Installation Output Listing\n",
    "    \n",
    "A code block that executes the code to install your your package and outputs a successful installation."
   ]
  },
  {
   "cell_type": "code",
   "execution_count": 1,
   "id": "3609769a-c338-4746-8607-d124caf76ed8",
   "metadata": {
    "vscode": {
     "languageId": "shellscript"
    }
   },
   "outputs": [
    {
     "name": "stdout",
     "output_type": "stream",
     "text": [
      "Collecting montecarlo\n",
      "  Downloading montecarlo-0.1.17.tar.gz (1.3 kB)\n",
      "  Preparing metadata (setup.py) ... \u001b[?25ldone\n",
      "\u001b[?25hBuilding wheels for collected packages: montecarlo\n",
      "  Building wheel for montecarlo (setup.py) ... \u001b[?25ldone\n",
      "\u001b[?25h  Created wheel for montecarlo: filename=montecarlo-0.1.17-py3-none-any.whl size=1857 sha256=e4052ae7f0218bf71422d7648cf94513895c47c43f9dfed463bac417c21875a6\n",
      "  Stored in directory: /Users/tommy/Library/Caches/pip/wheels/ea/60/c6/9de9b2f21cd9b2fcf3fef492ffb56de76b3bb1dc79dc508ac6\n",
      "Successfully built montecarlo\n",
      "Installing collected packages: montecarlo\n",
      "Successfully installed montecarlo-0.1.17\n",
      "Note: you may need to restart the kernel to use updated packages.\n"
     ]
    }
   ],
   "source": [
    "pip install montecarlo"
   ]
  },
  {
   "cell_type": "code",
   "execution_count": null,
   "id": "3f8d0ced-8841-4357-bda1-151880cf91a0",
   "metadata": {},
   "outputs": [],
   "source": []
  }
 ],
 "metadata": {
  "kernelspec": {
   "display_name": "Python 3 (ipykernel)",
   "language": "python",
   "name": "python3"
  },
  "language_info": {
   "codemirror_mode": {
    "name": "ipython",
    "version": 3
   },
   "file_extension": ".py",
   "mimetype": "text/x-python",
   "name": "python",
   "nbconvert_exporter": "python",
   "pygments_lexer": "ipython3",
   "version": "3.9.13"
  },
  "widgets": {
   "application/vnd.jupyter.widget-state+json": {
    "state": {},
    "version_major": 2,
    "version_minor": 0
   }
  }
 },
 "nbformat": 4,
 "nbformat_minor": 5
}
